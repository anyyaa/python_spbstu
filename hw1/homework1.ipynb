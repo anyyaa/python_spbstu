{
 "cells": [
  {
   "cell_type": "markdown",
   "id": "2ffb30a0-9341-4146-852c-957ed993c50b",
   "metadata": {},
   "source": [
    "Вычисление чисел Фибоначчи рекурсивно"
   ]
  },
  {
   "cell_type": "code",
   "execution_count": 1,
   "id": "b162264f-e262-4b9c-99f1-15acc02cd93f",
   "metadata": {},
   "outputs": [],
   "source": [
    "def fib_recursive(n):\n",
    "    if n >= 2:\n",
    "        return fib_recursive(n - 1) + fib_recursive(n - 2)\n",
    "    return n"
   ]
  },
  {
   "cell_type": "code",
   "execution_count": null,
   "id": "84f8dfc2-8293-4d57-a1bd-000c6e7d0955",
   "metadata": {},
   "outputs": [],
   "source": [
    "print(fib_recursive(10))"
   ]
  },
  {
   "cell_type": "markdown",
   "id": "1576faf9-9d50-40a8-aac0-6181ac7007cc",
   "metadata": {},
   "source": [
    "Вычисление чисел Фибоначчи итеративно"
   ]
  },
  {
   "cell_type": "code",
   "execution_count": 9,
   "id": "5a844861-cbf0-431a-86d1-02202eb64670",
   "metadata": {},
   "outputs": [],
   "source": [
    "fib_list = [0, 1]\n",
    "\n",
    "\n",
    "def fib_iterative(n):\n",
    "    if n < len(fib_list):\n",
    "        return fib_list[n]\n",
    "    else:\n",
    "        for i in range(len(fib_list), n + 1):\n",
    "            fib_list.append(fib_list[i - 1] + fib_list[i - 2])\n",
    "        return fib_list[n]"
   ]
  },
  {
   "cell_type": "code",
   "execution_count": 10,
   "id": "4a403ae4-a0db-4068-be2a-24f03a0f038a",
   "metadata": {},
   "outputs": [
    {
     "name": "stdout",
     "output_type": "stream",
     "text": [
      "55\n"
     ]
    }
   ],
   "source": [
    "print(fib_iterative(10))   "
   ]
  },
  {
   "cell_type": "markdown",
   "id": "b012a894-9ac5-4868-a11e-c17eb61ea796",
   "metadata": {},
   "source": [
    "Перемножение матриц"
   ]
  },
  {
   "cell_type": "code",
   "execution_count": 8,
   "id": "51410afa-7861-4e17-97aa-a0c5604bce0c",
   "metadata": {},
   "outputs": [],
   "source": [
    "def multiply_matrices(A, B):\n",
    "    if len(A[0]) != len(B):\n",
    "        return None\n",
    "    result = [[0 for _ in range(len(B[0]))] for _ in range(len(A))]\n",
    "    for i in range(len(A)):\n",
    "        for j in range(len(B[0])):\n",
    "            for k in range(len(B)):\n",
    "                result[i][j] += A[i][k] * B[k][j]\n",
    "\n",
    "    return result"
   ]
  },
  {
   "cell_type": "code",
   "execution_count": 52,
   "id": "364ce239-9ef1-4126-9664-cca97ecb9ea1",
   "metadata": {},
   "outputs": [
    {
     "name": "stdout",
     "output_type": "stream",
     "text": [
      "[[7, 11], [8, 7]]\n",
      "None\n"
     ]
    }
   ],
   "source": [
    "A = [[1, 5],[3, 2]]\n",
    "B = [[2, 1],[1, 2]]\n",
    "print(multiply_matrices(A, B))\n",
    "\n",
    "E = [[1, 2, 3]]\n",
    "F = [[1], [2]]\n",
    "print(multiply_matrices(E, F))"
   ]
  },
  {
   "cell_type": "markdown",
   "id": "3f21a067-9800-48d7-ac9e-8502dcd1fe0b",
   "metadata": {},
   "source": [
    "Возведение матрицы в степень"
   ]
  },
  {
   "cell_type": "code",
   "execution_count": 48,
   "id": "e95b3882-3459-4f38-9bc9-236acb4ad405",
   "metadata": {},
   "outputs": [],
   "source": [
    "def matrix_power(M, p):\n",
    "    if p == 0:\n",
    "        return M\n",
    "    if p == 1:\n",
    "        return M\n",
    "    if p % 2:\n",
    "        return multiply_matrices(M, matrix_power(M, p - 1))\n",
    "    return multiply_matrices(matrix_power(M, p // 2), matrix_power(M, p // 2))"
   ]
  },
  {
   "cell_type": "code",
   "execution_count": null,
   "id": "2c29badb-06c0-42b1-b048-d7045c983fb0",
   "metadata": {},
   "outputs": [],
   "source": [
    "print(matrix_power([[1,1],[1,0]], 5))"
   ]
  },
  {
   "cell_type": "markdown",
   "id": "3cc648b8-7e4d-4904-ba75-138742d10d92",
   "metadata": {},
   "source": [
    "Поиск чисел Фибоначчи через матрицы"
   ]
  },
  {
   "cell_type": "code",
   "execution_count": null,
   "id": "42ff397b-9e0e-4f22-a350-5febbc9b7798",
   "metadata": {},
   "outputs": [],
   "source": [
    "def fib_matrix(n):\n",
    "    M = [[1, 1], [1, 0]]\n",
    "    return matrix_power(M, n)[1][0]"
   ]
  },
  {
   "cell_type": "code",
   "execution_count": 49,
   "id": "bb3f9f73-6f74-4374-b72e-48f06ddcd9e4",
   "metadata": {},
   "outputs": [
    {
     "name": "stdout",
     "output_type": "stream",
     "text": [
      "1\n"
     ]
    }
   ],
   "source": [
    "print(fib_matrix(1))"
   ]
  },
  {
   "cell_type": "markdown",
   "id": "6582fdef-c8a3-4298-a377-35354f8fb285",
   "metadata": {},
   "source": [
    "Тесты для функций"
   ]
  },
  {
   "cell_type": "code",
   "execution_count": 57,
   "id": "c6aaa294-445a-4b17-8cd9-91165f76291a",
   "metadata": {},
   "outputs": [
    {
     "name": "stdout",
     "output_type": "stream",
     "text": [
      "Все тесты для fib_recursive пройдены.\n",
      "Все тесты для fib_iterative пройдены.\n",
      "None\n",
      "Все тесты для multiply_matrices пройдены.\n",
      "Все тесты для matrix_power пройдены.\n",
      "Все тесты для fib_matrix пройдены.\n"
     ]
    }
   ],
   "source": [
    "def test_fib_recursive():\n",
    "    assert fib_recursive(0) == 0\n",
    "    assert fib_recursive(1) == 1\n",
    "    assert fib_recursive(2) == 1\n",
    "    assert fib_recursive(3) == 2\n",
    "    assert fib_recursive(10) == 55\n",
    "    print(\"Все тесты для fib_recursive пройдены.\")\n",
    "\n",
    "def test_fib_iterative():\n",
    "    assert fib_iterative(0) == 0\n",
    "    assert fib_iterative(1) == 1\n",
    "    assert fib_iterative(2) == 1\n",
    "    assert fib_iterative(3) == 2\n",
    "    assert fib_iterative(10) == 55\n",
    "    print(\"Все тесты для fib_iterative пройдены.\")\n",
    "\n",
    "def test_fib_matrix():\n",
    "    assert fib_matrix(1) == 1\n",
    "    assert fib_matrix(2) == 1\n",
    "    assert fib_matrix(3) == 2\n",
    "    assert fib_matrix(10) == 55\n",
    "    print(\"Все тесты для fib_matrix пройдены.\")\n",
    "\n",
    "def test_multiply_matrices():\n",
    "    A = [[1, 5], [3, 2]]\n",
    "    B = [[2, 1], [1, 2]]\n",
    "    expected_result = [[7, 11], [8, 7]]\n",
    "    assert multiply_matrices(A, B) == expected_result\n",
    "\n",
    "    C = [[1, 2, 3], [4, 5, 6], [1, 2, 3]]\n",
    "    print(multiply_matrices(A, C))\n",
    "    assert multiply_matrices(A, C) is None\n",
    "    print(\"Все тесты для multiply_matrices пройдены.\")\n",
    "\n",
    "def test_matrix_power():\n",
    "    M = [[1, 2], [3, 4]]\n",
    "    assert matrix_power(M, 1) == M\n",
    "    \n",
    "    expected_result_2 = [[7, 10], [15, 22]]\n",
    "    assert matrix_power(M, 2) == expected_result_2\n",
    "    print(\"Все тесты для matrix_power пройдены.\")\n",
    "\n",
    "\n",
    "test_fib_recursive()\n",
    "test_fib_iterative()\n",
    "test_multiply_matrices()\n",
    "test_matrix_power()\n",
    "test_fib_matrix()\n"
   ]
  },
  {
   "cell_type": "code",
   "execution_count": null,
   "id": "ad386f76-8812-4b7b-827a-8b42aaf31753",
   "metadata": {},
   "outputs": [],
   "source": []
  }
 ],
 "metadata": {
  "kernelspec": {
   "display_name": "Python 3 (ipykernel)",
   "language": "python",
   "name": "python3"
  },
  "language_info": {
   "codemirror_mode": {
    "name": "ipython",
    "version": 3
   },
   "file_extension": ".py",
   "mimetype": "text/x-python",
   "name": "python",
   "nbconvert_exporter": "python",
   "pygments_lexer": "ipython3",
   "version": "3.11.7"
  }
 },
 "nbformat": 4,
 "nbformat_minor": 5
}
