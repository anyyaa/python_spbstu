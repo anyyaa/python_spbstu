{
 "cells": [
  {
   "cell_type": "markdown",
   "id": "25e802ab",
   "metadata": {},
   "source": [
    "# Вычисление факториала числа"
   ]
  },
  {
   "cell_type": "markdown",
   "id": "62441eab",
   "metadata": {},
   "source": [
    "Напишите функцию, которая принимает целое число n и возвращает его факториал n!.\n",
    "\n",
    "Пример:\n",
    "* Вход: $n = 5$\n",
    "* Выход: $120$ (так как  $5! = 5 \\times 4 \\times 3 \\times 2 \\times 1 = 120$ )\n"
   ]
  },
  {
   "cell_type": "code",
   "execution_count": 41,
   "id": "4a9e929a",
   "metadata": {
    "ExecuteTime": {
     "end_time": "2024-10-30T16:52:40.633198Z",
     "start_time": "2024-10-30T16:52:40.621435Z"
    }
   },
   "outputs": [],
   "source": [
    "def factorial(n):\n",
    "    result = 1\n",
    "    \n",
    "    for x in range(2, n + 1):\n",
    "        result *= x\n",
    "    \n",
    "    return result\n"
   ]
  },
  {
   "cell_type": "code",
   "execution_count": 8,
   "id": "af165464",
   "metadata": {
    "ExecuteTime": {
     "end_time": "2024-10-30T16:24:19.509139Z",
     "start_time": "2024-10-30T16:24:19.490035Z"
    }
   },
   "outputs": [],
   "source": [
    "def factorial(n):\n",
    "    if n <= 1:\n",
    "        return n\n",
    "    return n * factorial(n - 1)"
   ]
  },
  {
   "cell_type": "code",
   "execution_count": 10,
   "id": "6cfd54cc",
   "metadata": {
    "ExecuteTime": {
     "end_time": "2024-10-30T16:24:26.092328Z",
     "start_time": "2024-10-30T16:24:23.992151Z"
    }
   },
   "outputs": [
    {
     "ename": "RecursionError",
     "evalue": "maximum recursion depth exceeded in comparison",
     "output_type": "error",
     "traceback": [
      "\u001b[0;31m---------------------------------------------------------------------------\u001b[0m",
      "\u001b[0;31mRecursionError\u001b[0m                            Traceback (most recent call last)",
      "\u001b[0;32m/var/folders/wm/khkwk2g178n7h8ngdvlc9htr0000gp/T/ipykernel_84731/1034260264.py\u001b[0m in \u001b[0;36m<module>\u001b[0;34m\u001b[0m\n\u001b[0;32m----> 1\u001b[0;31m \u001b[0mfactorial\u001b[0m\u001b[0;34m(\u001b[0m\u001b[0;36m50000000\u001b[0m\u001b[0;34m)\u001b[0m\u001b[0;34m\u001b[0m\u001b[0;34m\u001b[0m\u001b[0m\n\u001b[0m",
      "\u001b[0;32m/var/folders/wm/khkwk2g178n7h8ngdvlc9htr0000gp/T/ipykernel_84731/1451319457.py\u001b[0m in \u001b[0;36mfactorial\u001b[0;34m(n)\u001b[0m\n\u001b[1;32m      2\u001b[0m     \u001b[0;32mif\u001b[0m \u001b[0mn\u001b[0m \u001b[0;34m<=\u001b[0m \u001b[0;36m1\u001b[0m\u001b[0;34m:\u001b[0m\u001b[0;34m\u001b[0m\u001b[0;34m\u001b[0m\u001b[0m\n\u001b[1;32m      3\u001b[0m         \u001b[0;32mreturn\u001b[0m \u001b[0mn\u001b[0m\u001b[0;34m\u001b[0m\u001b[0;34m\u001b[0m\u001b[0m\n\u001b[0;32m----> 4\u001b[0;31m     \u001b[0;32mreturn\u001b[0m \u001b[0mn\u001b[0m \u001b[0;34m*\u001b[0m \u001b[0mfactorial\u001b[0m\u001b[0;34m(\u001b[0m\u001b[0mn\u001b[0m \u001b[0;34m-\u001b[0m \u001b[0;36m1\u001b[0m\u001b[0;34m)\u001b[0m\u001b[0;34m\u001b[0m\u001b[0;34m\u001b[0m\u001b[0m\n\u001b[0m",
      "... last 1 frames repeated, from the frame below ...\n",
      "\u001b[0;32m/var/folders/wm/khkwk2g178n7h8ngdvlc9htr0000gp/T/ipykernel_84731/1451319457.py\u001b[0m in \u001b[0;36mfactorial\u001b[0;34m(n)\u001b[0m\n\u001b[1;32m      2\u001b[0m     \u001b[0;32mif\u001b[0m \u001b[0mn\u001b[0m \u001b[0;34m<=\u001b[0m \u001b[0;36m1\u001b[0m\u001b[0;34m:\u001b[0m\u001b[0;34m\u001b[0m\u001b[0;34m\u001b[0m\u001b[0m\n\u001b[1;32m      3\u001b[0m         \u001b[0;32mreturn\u001b[0m \u001b[0mn\u001b[0m\u001b[0;34m\u001b[0m\u001b[0;34m\u001b[0m\u001b[0m\n\u001b[0;32m----> 4\u001b[0;31m     \u001b[0;32mreturn\u001b[0m \u001b[0mn\u001b[0m \u001b[0;34m*\u001b[0m \u001b[0mfactorial\u001b[0m\u001b[0;34m(\u001b[0m\u001b[0mn\u001b[0m \u001b[0;34m-\u001b[0m \u001b[0;36m1\u001b[0m\u001b[0;34m)\u001b[0m\u001b[0;34m\u001b[0m\u001b[0;34m\u001b[0m\u001b[0m\n\u001b[0m",
      "\u001b[0;31mRecursionError\u001b[0m: maximum recursion depth exceeded in comparison"
     ]
    }
   ],
   "source": [
    "factorial(50000000)"
   ]
  },
  {
   "cell_type": "code",
   "execution_count": 13,
   "id": "2ee3149c",
   "metadata": {
    "ExecuteTime": {
     "end_time": "2024-10-30T16:25:18.150738Z",
     "start_time": "2024-10-30T16:25:05.867704Z"
    }
   },
   "outputs": [
    {
     "ename": "KeyboardInterrupt",
     "evalue": "",
     "output_type": "error",
     "traceback": [
      "\u001b[0;31m---------------------------------------------------------------------------\u001b[0m",
      "\u001b[0;31mKeyboardInterrupt\u001b[0m                         Traceback (most recent call last)",
      "\u001b[0;32m/var/folders/wm/khkwk2g178n7h8ngdvlc9htr0000gp/T/ipykernel_84731/2976886508.py\u001b[0m in \u001b[0;36m<module>\u001b[0;34m\u001b[0m\n\u001b[0;32m----> 1\u001b[0;31m \u001b[0mprint\u001b[0m\u001b[0;34m(\u001b[0m\u001b[0mfactorial\u001b[0m\u001b[0;34m(\u001b[0m\u001b[0;36m50000000\u001b[0m\u001b[0;34m)\u001b[0m\u001b[0;34m)\u001b[0m  \u001b[0;31m# Выход: 120\u001b[0m\u001b[0;34m\u001b[0m\u001b[0;34m\u001b[0m\u001b[0m\n\u001b[0m",
      "\u001b[0;32m/var/folders/wm/khkwk2g178n7h8ngdvlc9htr0000gp/T/ipykernel_84731/1426610020.py\u001b[0m in \u001b[0;36mfactorial\u001b[0;34m(n)\u001b[0m\n\u001b[1;32m      3\u001b[0m \u001b[0;34m\u001b[0m\u001b[0m\n\u001b[1;32m      4\u001b[0m     \u001b[0;32mfor\u001b[0m \u001b[0mx\u001b[0m \u001b[0;32min\u001b[0m \u001b[0mrange\u001b[0m\u001b[0;34m(\u001b[0m\u001b[0;36m2\u001b[0m\u001b[0;34m,\u001b[0m \u001b[0mn\u001b[0m \u001b[0;34m+\u001b[0m \u001b[0;36m1\u001b[0m\u001b[0;34m)\u001b[0m\u001b[0;34m:\u001b[0m\u001b[0;34m\u001b[0m\u001b[0;34m\u001b[0m\u001b[0m\n\u001b[0;32m----> 5\u001b[0;31m         \u001b[0mresult\u001b[0m \u001b[0;34m*=\u001b[0m \u001b[0mx\u001b[0m\u001b[0;34m\u001b[0m\u001b[0;34m\u001b[0m\u001b[0m\n\u001b[0m\u001b[1;32m      6\u001b[0m \u001b[0;34m\u001b[0m\u001b[0m\n\u001b[1;32m      7\u001b[0m     \u001b[0;32mreturn\u001b[0m \u001b[0mresult\u001b[0m\u001b[0;34m\u001b[0m\u001b[0;34m\u001b[0m\u001b[0m\n",
      "\u001b[0;31mKeyboardInterrupt\u001b[0m: "
     ]
    }
   ],
   "source": [
    "print(factorial(50000000))  # Выход: 120"
   ]
  },
  {
   "cell_type": "markdown",
   "id": "7e71749c",
   "metadata": {},
   "source": [
    "# Поиск максимального элемента в матрице"
   ]
  },
  {
   "cell_type": "markdown",
   "id": "155bb94d",
   "metadata": {},
   "source": [
    "Напишите функцию, которая принимает матрицу (двумерный список) и находит максимальный элемент в этой матрице. Функция должна возвращать максимальное значение и его координаты (индексы строки и столбца)."
   ]
  },
  {
   "cell_type": "code",
   "execution_count": 14,
   "id": "4ff0bdf0",
   "metadata": {
    "ExecuteTime": {
     "end_time": "2024-10-30T16:30:26.363342Z",
     "start_time": "2024-10-30T16:30:26.345489Z"
    }
   },
   "outputs": [
    {
     "name": "stdout",
     "output_type": "stream",
     "text": [
      "9\n",
      "(2, 2)\n"
     ]
    }
   ],
   "source": [
    "def find_max_in_matrix(matrix):\n",
    "    max_value = matrix[0][0]\n",
    "    max_position = (0, 0)\n",
    "    \n",
    "    for i in range(len(matrix)):\n",
    "        for j in range(len(matrix[0])):\n",
    "            if matrix[i][j] > max_value:\n",
    "                max_value = matrix[i][j]\n",
    "                max_position = (i, j)\n",
    "    \n",
    "    return max_value, max_position\n",
    "    \n",
    "    \n",
    "\n",
    "matrix = [\n",
    "    [1, 2, 3],\n",
    "    [4, 5, 6],\n",
    "    [7, 8, 9]\n",
    "]\n",
    "\n",
    "matrix = [[1, 2, 3], [4, 5, 6], [7, 8, 9]]\n",
    "\n",
    "max_value, max_position = find_max_in_matrix(matrix)\n",
    "print(max_value) ## 9\n",
    "print(max_position) ## (2, 2)"
   ]
  },
  {
   "cell_type": "code",
   "execution_count": 16,
   "id": "57064834",
   "metadata": {
    "ExecuteTime": {
     "end_time": "2024-10-30T16:33:47.730846Z",
     "start_time": "2024-10-30T16:33:47.720974Z"
    }
   },
   "outputs": [
    {
     "data": {
      "text/plain": [
       "[7, 8, 9]"
      ]
     },
     "execution_count": 16,
     "metadata": {},
     "output_type": "execute_result"
    }
   ],
   "source": [
    "list(map(max, *matrix))"
   ]
  },
  {
   "cell_type": "markdown",
   "id": "69827bab",
   "metadata": {},
   "source": [
    "# Подсчёт каждой цифры в большом числе "
   ]
  },
  {
   "cell_type": "markdown",
   "id": "8770d3a0",
   "metadata": {},
   "source": [
    "Напишите функцию, которая принимает очень большое целое число и возвращает словарь, где ключом является каждая цифра от 0 до 9, а значением — количество её вхождений в числе. Не используйте строки или преобразование числа в строку.\n",
    "\n",
    "**Пример:**\n",
    "* Вход: 12345678901234567890\n",
    "* Выход: {0: 2, 1: 2, 2: 2, 3: 2, 4: 2, 5: 2, 6: 2, 7: 2, 8: 2, 9: 2}\n",
    "* Вход: 555123123555\n",
    "* Выход: {0: 0, 1: 2, 2: 2, 3: 2, 4: 0, 5: 6, 6: 0, 7: 0, 8: 0, 9: 0}"
   ]
  },
  {
   "cell_type": "code",
   "execution_count": 39,
   "id": "53526fe7",
   "metadata": {
    "ExecuteTime": {
     "end_time": "2024-10-30T16:48:12.251843Z",
     "start_time": "2024-10-30T16:48:12.238190Z"
    }
   },
   "outputs": [
    {
     "data": {
      "text/plain": [
       "0"
      ]
     },
     "execution_count": 39,
     "metadata": {},
     "output_type": "execute_result"
    }
   ],
   "source": [
    "5 // 10"
   ]
  },
  {
   "cell_type": "code",
   "execution_count": 28,
   "id": "00143578",
   "metadata": {
    "ExecuteTime": {
     "end_time": "2024-10-30T16:43:29.045115Z",
     "start_time": "2024-10-30T16:43:29.037449Z"
    }
   },
   "outputs": [],
   "source": [
    "from collections import defaultdict\n",
    "\n",
    "def count_digits(number):\n",
    "    cdigits = dict()    \n",
    "    \n",
    "    for i in range(10):\n",
    "        cdigits[i] = 0\n",
    "        \n",
    "    while number > 0:\n",
    "        digit = number % 10\n",
    "        number = number // 10\n",
    "#         if digit not in cdigits:\n",
    "#             cdigits[digit] = 0\n",
    "        cdigits[digit] += 1\n",
    "    return cdigits "
   ]
  },
  {
   "cell_type": "code",
   "execution_count": 40,
   "id": "b9627373",
   "metadata": {
    "ExecuteTime": {
     "end_time": "2024-10-30T16:49:35.350256Z",
     "start_time": "2024-10-30T16:49:35.327077Z"
    }
   },
   "outputs": [
    {
     "data": {
      "text/plain": [
       "<function __main__.count_digits(number)>"
      ]
     },
     "execution_count": 40,
     "metadata": {},
     "output_type": "execute_result"
    }
   ],
   "source": [
    "count_digits"
   ]
  },
  {
   "cell_type": "code",
   "execution_count": 29,
   "id": "463a661e",
   "metadata": {
    "ExecuteTime": {
     "end_time": "2024-10-30T16:43:29.782355Z",
     "start_time": "2024-10-30T16:43:29.766742Z"
    }
   },
   "outputs": [],
   "source": [
    "from collections import defaultdict\n",
    "\n",
    "def count_digits_str(number):\n",
    "    cdigits = defaultdict(int)\n",
    "    for digit in str(number):\n",
    "        cdigits[int(digit)] += 1\n",
    "    return cdigits "
   ]
  },
  {
   "cell_type": "code",
   "execution_count": 37,
   "id": "68d2520a",
   "metadata": {
    "ExecuteTime": {
     "end_time": "2024-10-30T16:44:53.439847Z",
     "start_time": "2024-10-30T16:44:53.406888Z"
    }
   },
   "outputs": [
    {
     "name": "stdout",
     "output_type": "stream",
     "text": [
      "CPU times: user 139 µs, sys: 9 µs, total: 148 µs\n",
      "Wall time: 415 µs\n"
     ]
    },
    {
     "data": {
      "text/plain": [
       "defaultdict(int,\n",
       "            {5: 16, 3: 28, 1: 24, 4: 16, 2: 20, 0: 8, 9: 8, 8: 8, 7: 8, 6: 8})"
      ]
     },
     "execution_count": 37,
     "metadata": {},
     "output_type": "execute_result"
    }
   ],
   "source": [
    "%%time\n",
    "count_digits(123456789012345678902312431324135135123456789012345678902312431324135135123456789012345678902312431324135135123456789012345678902312431324135135)"
   ]
  },
  {
   "cell_type": "code",
   "execution_count": 38,
   "id": "218dbd92",
   "metadata": {
    "ExecuteTime": {
     "end_time": "2024-10-30T16:44:54.311226Z",
     "start_time": "2024-10-30T16:44:54.294937Z"
    }
   },
   "outputs": [
    {
     "name": "stdout",
     "output_type": "stream",
     "text": [
      "CPU times: user 88 µs, sys: 1 µs, total: 89 µs\n",
      "Wall time: 95.1 µs\n"
     ]
    },
    {
     "data": {
      "text/plain": [
       "defaultdict(int,\n",
       "            {1: 24, 2: 20, 3: 28, 4: 16, 5: 16, 6: 8, 7: 8, 8: 8, 9: 8, 0: 8})"
      ]
     },
     "execution_count": 38,
     "metadata": {},
     "output_type": "execute_result"
    }
   ],
   "source": [
    "%%time\n",
    "count_digits_str(123456789012345678902312431324135135123456789012345678902312431324135135123456789012345678902312431324135135123456789012345678902312431324135135)"
   ]
  },
  {
   "cell_type": "markdown",
   "id": "3d86eb5c",
   "metadata": {},
   "source": [
    "\n",
    "# Вычисление экспоненциального ряда"
   ]
  },
  {
   "cell_type": "markdown",
   "id": "9aa8d601",
   "metadata": {},
   "source": [
    "Напишите функцию, которая приближённо вычисляет значение экспоненты  $e^x$  по следующей формуле:\n",
    "\n",
    "$$e^x = 1 + \\frac{x}{1!} + \\frac{x^2}{2!} + \\frac{x^3}{3!} + \\dots + \\frac{x^n}{n!}$$\n",
    "\n",
    "Используйте только n первых членов ряда и факториалы, вычисленные самостоятельно.\n",
    "\n",
    "Пример:\n",
    "* Вход: $x = 1, n = 5$\n",
    "* Выход: $2.7166666666666663$ (близко к реальному значению  $e \\approx 2.718$ )"
   ]
  },
  {
   "cell_type": "code",
   "execution_count": 49,
   "id": "84f34192",
   "metadata": {
    "ExecuteTime": {
     "end_time": "2024-10-30T16:55:33.674779Z",
     "start_time": "2024-10-30T16:55:33.664219Z"
    }
   },
   "outputs": [],
   "source": [
    "def e1(x, n):\n",
    "    result = 0.0\n",
    "    \n",
    "    for k in range(n + 1):\n",
    "        \n",
    "        result += (x ** k) / factorial(k)\n",
    "        \n",
    "    return result\n",
    " "
   ]
  },
  {
   "cell_type": "code",
   "execution_count": 50,
   "id": "a98ab638",
   "metadata": {
    "ExecuteTime": {
     "end_time": "2024-10-30T16:55:34.869794Z",
     "start_time": "2024-10-30T16:55:34.854338Z"
    }
   },
   "outputs": [],
   "source": [
    "def e2(x, n):\n",
    "    result = 1.0\n",
    "    term = 1.0\n",
    "    for k in range(1, n + 1):\n",
    "        term *= x / k\n",
    "        result += term\n",
    "        \n",
    "    return result"
   ]
  },
  {
   "cell_type": "code",
   "execution_count": 58,
   "id": "f02cf05e",
   "metadata": {
    "ExecuteTime": {
     "end_time": "2024-10-30T16:57:04.351869Z",
     "start_time": "2024-10-30T16:57:04.346249Z"
    }
   },
   "outputs": [],
   "source": [
    "def e3(x, n):\n",
    "    return (1 + 1 / n) ** n"
   ]
  },
  {
   "cell_type": "code",
   "execution_count": 59,
   "id": "94eb1fc5",
   "metadata": {
    "ExecuteTime": {
     "end_time": "2024-10-30T16:57:05.094175Z",
     "start_time": "2024-10-30T16:57:05.079391Z"
    }
   },
   "outputs": [
    {
     "name": "stdout",
     "output_type": "stream",
     "text": [
      "2.7182818284590455\n",
      "CPU times: user 341 µs, sys: 25 µs, total: 366 µs\n",
      "Wall time: 385 µs\n"
     ]
    }
   ],
   "source": [
    "%%time\n",
    "print(e1(1, 50))"
   ]
  },
  {
   "cell_type": "code",
   "execution_count": 60,
   "id": "240a8dd0",
   "metadata": {
    "ExecuteTime": {
     "end_time": "2024-10-30T16:57:05.690809Z",
     "start_time": "2024-10-30T16:57:05.675123Z"
    }
   },
   "outputs": [
    {
     "name": "stdout",
     "output_type": "stream",
     "text": [
      "2.7182818284590455\n",
      "CPU times: user 528 µs, sys: 185 µs, total: 713 µs\n",
      "Wall time: 1.49 ms\n"
     ]
    }
   ],
   "source": [
    "%%time\n",
    "print(e2(1, 50))"
   ]
  },
  {
   "cell_type": "code",
   "execution_count": 61,
   "id": "cdd199d7",
   "metadata": {
    "ExecuteTime": {
     "end_time": "2024-10-30T16:57:06.624952Z",
     "start_time": "2024-10-30T16:57:06.611841Z"
    }
   },
   "outputs": [
    {
     "name": "stdout",
     "output_type": "stream",
     "text": [
      "2.691588029073608\n",
      "CPU times: user 732 µs, sys: 176 µs, total: 908 µs\n",
      "Wall time: 915 µs\n"
     ]
    }
   ],
   "source": [
    "%%time\n",
    "print(e3(1, 50))"
   ]
  },
  {
   "cell_type": "code",
   "execution_count": 62,
   "id": "ea57b91f",
   "metadata": {
    "ExecuteTime": {
     "end_time": "2024-10-30T16:57:21.055434Z",
     "start_time": "2024-10-30T16:57:21.044049Z"
    }
   },
   "outputs": [
    {
     "name": "stdout",
     "output_type": "stream",
     "text": [
      "2.691588029073608\n"
     ]
    }
   ],
   "source": [
    "print(e3(1, 50))"
   ]
  },
  {
   "cell_type": "code",
   "execution_count": null,
   "id": "c89ba3af",
   "metadata": {},
   "outputs": [],
   "source": [
    "def e(x, n):\n",
    "    pass\n",
    "\n",
    "# Пример использования\n",
    "print(e(1, 5))  # Выход: приближённое значение e ≈ 2.71667"
   ]
  },
  {
   "cell_type": "markdown",
   "id": "195d27a7",
   "metadata": {
    "ExecuteTime": {
     "end_time": "2024-10-30T05:09:38.468053Z",
     "start_time": "2024-10-30T05:09:38.451652Z"
    }
   },
   "source": [
    "# Вычисление корней квадратного уравнения"
   ]
  },
  {
   "cell_type": "markdown",
   "id": "c2ff033a",
   "metadata": {
    "ExecuteTime": {
     "end_time": "2024-10-30T05:10:25.417423Z",
     "start_time": "2024-10-30T05:10:25.396719Z"
    }
   },
   "source": [
    "Напишите функцию, которая решает квадратное уравнение вида  $ax^2 + bx + c = 0$ , где коэффициенты a, b и c вводятся пользователем. Функция должна вернуть действительные корни уравнения, если они существуют, или сообщить, что корней нет.\n",
    "\n",
    "Пример:\n",
    "* Вход: $a = 1, b = -3, c = 2$\n",
    "* Выход: корни $(2, 1)$"
   ]
  },
  {
   "cell_type": "code",
   "execution_count": null,
   "id": "586c24b2",
   "metadata": {},
   "outputs": [],
   "source": [
    "def quadratic_roots(a, b, c):\n",
    "    d = b * b - 4 * a * c\n",
    "    if d < 0:\n",
    "        print(\"Нет действительных корней\")\n",
    "        return\n",
    "    if d == 0:\n",
    "        root = (-b + math.sqrt(d)) / 2 * a\n",
    "        return root\n",
    "    root1 = (-b + math.sqrt(d)) / 2 * a\n",
    "    root2 = (-b - math.sqrt(d)) / 2 * a\n",
    "    return root1, root2\n",
    "\n",
    "    return (-b + math.sqrt(d)) / 2 * a, (-b - math.sqrt(d)) / 2 * a"
   ]
  },
  {
   "cell_type": "code",
   "execution_count": null,
   "id": "6ed1b459",
   "metadata": {},
   "outputs": [],
   "source": [
    "import math\n",
    "\n",
    "def quadratic_roots(a, b, c):\n",
    "    pass\n",
    "\n",
    "# Пример использования\n",
    "print(quadratic_roots(1, -3, 2))  # Выход: (2, 1)\n",
    "print(quadratic_roots(1, 2, 5))   # Выход: \"Нет действительных корней\""
   ]
  },
  {
   "cell_type": "markdown",
   "id": "b1deb6a0",
   "metadata": {},
   "source": [
    "# Приближённое вычисление синуса с использованием ряда Тейлора"
   ]
  },
  {
   "cell_type": "markdown",
   "id": "6c1aced2",
   "metadata": {},
   "source": [
    "Напишите функцию, которая приближённо вычисляет значение синуса для угла $x$ (в радианах) с использованием ряда Тейлора. Формула для синуса через ряд Тейлора:\n",
    "\n",
    "$$\\sin(x) = x - \\frac{x^3}{3!} + \\frac{x^5}{5!} - \\frac{x^7}{7!} + \\dots$$\n",
    "Функция должна принимать угол x и количество членов n и возвращать приближённое значение синуса, вычисленное с точностью до n членов.\n"
   ]
  },
  {
   "cell_type": "code",
   "execution_count": 64,
   "id": "04e40aba",
   "metadata": {
    "ExecuteTime": {
     "end_time": "2024-10-30T17:07:32.774202Z",
     "start_time": "2024-10-30T17:07:32.757729Z"
    }
   },
   "outputs": [
    {
     "name": "stdout",
     "output_type": "stream",
     "text": [
      "1.0000032058668373\n"
     ]
    }
   ],
   "source": [
    "def sin_taylor(x, n):\n",
    "    result = 0.0\n",
    "    term = x\n",
    "    for i in range(n):\n",
    "        result += term\n",
    "        term *= - x * x / ((2 * i + 2) * (2 * i + 3))\n",
    "    return result\n",
    "\n",
    "# Пример использования\n",
    "print(sin_taylor(1.57, 5))  # Выход: примерно 1 (для x ≈ π/2)"
   ]
  },
  {
   "cell_type": "markdown",
   "id": "f33c8568",
   "metadata": {},
   "source": [
    "# Подсчёт единичных битов в числе"
   ]
  },
  {
   "cell_type": "markdown",
   "id": "d1e0775d",
   "metadata": {
    "ExecuteTime": {
     "end_time": "2024-10-30T05:17:58.157530Z",
     "start_time": "2024-10-30T05:17:58.139148Z"
    }
   },
   "source": [
    "Напишите функцию, которая принимает целое число n и возвращает количество единичных битов в его двоичном представлении (так называемое “популяционное количество” или “hamming weight”).\n",
    "\n",
    "Пример:\n",
    "* Вход: $n = 9$ (двоичное представление $1001$)\n",
    "* Выход: $2$ (так как в числе $1001$ два единичных бита)"
   ]
  },
  {
   "cell_type": "code",
   "execution_count": 9,
   "id": "38136a82",
   "metadata": {
    "ExecuteTime": {
     "end_time": "2024-10-30T05:18:13.787106Z",
     "start_time": "2024-10-30T05:18:13.782701Z"
    }
   },
   "outputs": [],
   "source": [
    "def count_set_bits(n):\n",
    "    pass\n",
    "\n",
    "\n",
    "# Пример использования\n",
    "print(count_set_bits(9))  # Выход: 2"
   ]
  },
  {
   "cell_type": "code",
   "execution_count": null,
   "id": "6302180f",
   "metadata": {},
   "outputs": [],
   "source": [
    "def count_set_bits(n):\n",
    "    result = 0\n",
    "    while n > 0:\n",
    "        result += n % 2\n",
    "        n //= 2\n",
    "    return result\n",
    " "
   ]
  },
  {
   "cell_type": "code",
   "execution_count": null,
   "id": "f0cc1592",
   "metadata": {},
   "outputs": [],
   "source": [
    "def count_set_bits(n):\n",
    "    result = 0\n",
    "    while n > 0:\n",
    "        result += n & 1\n",
    "        n >>= 1 \n",
    "    return result"
   ]
  },
  {
   "cell_type": "code",
   "execution_count": 73,
   "id": "f4aac2c8",
   "metadata": {
    "ExecuteTime": {
     "end_time": "2024-10-30T17:15:08.720283Z",
     "start_time": "2024-10-30T17:15:08.707177Z"
    }
   },
   "outputs": [],
   "source": [
    "n = 9"
   ]
  },
  {
   "cell_type": "code",
   "execution_count": null,
   "id": "e47f6939",
   "metadata": {},
   "outputs": [],
   "source": [
    "И \n",
    "1 & 1 = 1\n",
    "1 & 0 = 0\n",
    "0 & 1 = 0\n",
    "0 & 0 = 0"
   ]
  },
  {
   "cell_type": "code",
   "execution_count": null,
   "id": "4b678e7f",
   "metadata": {},
   "outputs": [],
   "source": [
    "ИЛИ\n",
    "1 | 1 = 1\n",
    "1 | 0 = 1\n",
    "0 | 1 = 1\n",
    "0 | 0 = 0"
   ]
  },
  {
   "cell_type": "code",
   "execution_count": null,
   "id": "57735a0e",
   "metadata": {},
   "outputs": [],
   "source": [
    "ИЛИ\n",
    "1 ^ 1 = 0\n",
    "1 ^ 0 = 1\n",
    "0 ^ 1 = 1\n",
    "0 ^ 0 = 0"
   ]
  },
  {
   "cell_type": "code",
   "execution_count": 79,
   "id": "6c235503",
   "metadata": {
    "ExecuteTime": {
     "end_time": "2024-10-30T17:16:59.551296Z",
     "start_time": "2024-10-30T17:16:59.537520Z"
    }
   },
   "outputs": [
    {
     "data": {
      "text/plain": [
       "'0b101111000010110111101011'"
      ]
     },
     "execution_count": 79,
     "metadata": {},
     "output_type": "execute_result"
    }
   ],
   "source": [
    "bin(12332523)"
   ]
  },
  {
   "cell_type": "code",
   "execution_count": 85,
   "id": "bead1d20",
   "metadata": {
    "ExecuteTime": {
     "end_time": "2024-10-30T17:20:44.648581Z",
     "start_time": "2024-10-30T17:20:44.626029Z"
    }
   },
   "outputs": [
    {
     "name": "stdout",
     "output_type": "stream",
     "text": [
      "0b101111000010110111101100\n",
      "0b101111000010110111101011\n",
      "0b101111000010110111101000\n",
      "0b101111000010110111101111\n"
     ]
    }
   ],
   "source": [
    "a = 12332524\n",
    "b = 12332523\n",
    "print(bin(a))\n",
    "print(bin(b))\n",
    "print(bin(a & b))\n",
    "print(bin(a | b))"
   ]
  },
  {
   "cell_type": "code",
   "execution_count": 74,
   "id": "029a9039",
   "metadata": {
    "ExecuteTime": {
     "end_time": "2024-10-30T17:15:13.278250Z",
     "start_time": "2024-10-30T17:15:13.267593Z"
    }
   },
   "outputs": [
    {
     "data": {
      "text/plain": [
       "1"
      ]
     },
     "execution_count": 74,
     "metadata": {},
     "output_type": "execute_result"
    }
   ],
   "source": [
    "n & 1"
   ]
  },
  {
   "cell_type": "code",
   "execution_count": 75,
   "id": "d8ac7d4c",
   "metadata": {
    "ExecuteTime": {
     "end_time": "2024-10-30T17:16:06.493614Z",
     "start_time": "2024-10-30T17:16:06.483440Z"
    }
   },
   "outputs": [],
   "source": [
    "n >>= 1"
   ]
  },
  {
   "cell_type": "code",
   "execution_count": 77,
   "id": "a0bff6e4",
   "metadata": {
    "ExecuteTime": {
     "end_time": "2024-10-30T17:16:13.179175Z",
     "start_time": "2024-10-30T17:16:13.165533Z"
    }
   },
   "outputs": [
    {
     "data": {
      "text/plain": [
       "'0b100'"
      ]
     },
     "execution_count": 77,
     "metadata": {},
     "output_type": "execute_result"
    }
   ],
   "source": [
    "bin(n)"
   ]
  },
  {
   "cell_type": "code",
   "execution_count": 67,
   "id": "97739d6c",
   "metadata": {
    "ExecuteTime": {
     "end_time": "2024-10-30T17:12:51.626452Z",
     "start_time": "2024-10-30T17:12:51.603359Z"
    }
   },
   "outputs": [],
   "source": [
    "n = 9"
   ]
  },
  {
   "cell_type": "code",
   "execution_count": 68,
   "id": "30b8d7ce",
   "metadata": {
    "ExecuteTime": {
     "end_time": "2024-10-30T17:12:58.249596Z",
     "start_time": "2024-10-30T17:12:58.237548Z"
    }
   },
   "outputs": [
    {
     "data": {
      "text/plain": [
       "'0b1001'"
      ]
     },
     "execution_count": 68,
     "metadata": {},
     "output_type": "execute_result"
    }
   ],
   "source": [
    "bin(n)"
   ]
  },
  {
   "cell_type": "code",
   "execution_count": 69,
   "id": "00559b34",
   "metadata": {
    "ExecuteTime": {
     "end_time": "2024-10-30T17:13:03.870726Z",
     "start_time": "2024-10-30T17:13:03.861512Z"
    }
   },
   "outputs": [
    {
     "data": {
      "text/plain": [
       "1"
      ]
     },
     "execution_count": 69,
     "metadata": {},
     "output_type": "execute_result"
    }
   ],
   "source": [
    "n % 2"
   ]
  },
  {
   "cell_type": "code",
   "execution_count": 70,
   "id": "3d61707d",
   "metadata": {
    "ExecuteTime": {
     "end_time": "2024-10-30T17:13:17.688729Z",
     "start_time": "2024-10-30T17:13:17.672661Z"
    }
   },
   "outputs": [],
   "source": [
    "n //= 2"
   ]
  },
  {
   "cell_type": "code",
   "execution_count": 71,
   "id": "c1138b44",
   "metadata": {
    "ExecuteTime": {
     "end_time": "2024-10-30T17:13:28.999529Z",
     "start_time": "2024-10-30T17:13:28.987277Z"
    }
   },
   "outputs": [
    {
     "data": {
      "text/plain": [
       "4"
      ]
     },
     "execution_count": 71,
     "metadata": {},
     "output_type": "execute_result"
    }
   ],
   "source": [
    "n"
   ]
  },
  {
   "cell_type": "code",
   "execution_count": 72,
   "id": "9bbed11b",
   "metadata": {
    "ExecuteTime": {
     "end_time": "2024-10-30T17:13:38.612848Z",
     "start_time": "2024-10-30T17:13:38.585817Z"
    }
   },
   "outputs": [
    {
     "data": {
      "text/plain": [
       "'0b100'"
      ]
     },
     "execution_count": 72,
     "metadata": {},
     "output_type": "execute_result"
    }
   ],
   "source": [
    "bin(n)"
   ]
  },
  {
   "cell_type": "code",
   "execution_count": 66,
   "id": "ea44cda3",
   "metadata": {
    "ExecuteTime": {
     "end_time": "2024-10-30T17:11:55.616296Z",
     "start_time": "2024-10-30T17:11:55.605441Z"
    }
   },
   "outputs": [
    {
     "data": {
      "text/plain": [
       "'0b1001'"
      ]
     },
     "execution_count": 66,
     "metadata": {},
     "output_type": "execute_result"
    }
   ],
   "source": [
    "n = 9\n",
    "bin(n)"
   ]
  },
  {
   "cell_type": "markdown",
   "id": "0bb78081",
   "metadata": {},
   "source": [
    "# Переворот битов в числе"
   ]
  },
  {
   "cell_type": "markdown",
   "id": "b8500f42",
   "metadata": {
    "ExecuteTime": {
     "end_time": "2024-10-30T05:19:49.749240Z",
     "start_time": "2024-10-30T05:19:49.733887Z"
    }
   },
   "source": [
    "Напишите функцию, которая принимает целое положительное число n и количество бит num_bits и возвращает число n с перевёрнутыми битами в его двоичном представлении (то есть 0 становится 1 и наоборот) до длины num_bits.\n",
    "\n",
    "Пример:\n",
    "\n",
    "* Вход: $n = 5$ (двоичное представление $0101$), num_bits = 4\n",
    "* Выход: $10$ (двоичное представление $1010$)\n"
   ]
  },
  {
   "cell_type": "code",
   "execution_count": 88,
   "id": "5df23427",
   "metadata": {
    "ExecuteTime": {
     "end_time": "2024-10-30T17:24:52.330999Z",
     "start_time": "2024-10-30T17:24:52.316668Z"
    }
   },
   "outputs": [
    {
     "name": "stdout",
     "output_type": "stream",
     "text": [
      "101\n"
     ]
    }
   ],
   "source": [
    "def invert_bits(n, num_bits):\n",
    "    return \"\".join(list(reversed(str(bin(n)[2:]))))\n",
    "\n",
    "\n",
    "# Пример использования\n",
    "print(invert_bits(5, 4))  # Выход: 10"
   ]
  },
  {
   "cell_type": "code",
   "execution_count": 115,
   "id": "f468d95e",
   "metadata": {
    "ExecuteTime": {
     "end_time": "2024-10-30T17:34:00.472091Z",
     "start_time": "2024-10-30T17:34:00.463417Z"
    }
   },
   "outputs": [],
   "source": [
    "num_bits = 4\n",
    "n = 5"
   ]
  },
  {
   "cell_type": "code",
   "execution_count": 110,
   "id": "7b4af96d",
   "metadata": {
    "ExecuteTime": {
     "end_time": "2024-10-30T17:31:20.665201Z",
     "start_time": "2024-10-30T17:31:20.652100Z"
    }
   },
   "outputs": [
    {
     "data": {
      "text/plain": [
       "'0b1000000'"
      ]
     },
     "execution_count": 110,
     "metadata": {},
     "output_type": "execute_result"
    }
   ],
   "source": [
    "bin(64)"
   ]
  },
  {
   "cell_type": "code",
   "execution_count": 111,
   "id": "b2c28f59",
   "metadata": {
    "ExecuteTime": {
     "end_time": "2024-10-30T17:31:26.833619Z",
     "start_time": "2024-10-30T17:31:26.820886Z"
    }
   },
   "outputs": [
    {
     "data": {
      "text/plain": [
       "'0b111111'"
      ]
     },
     "execution_count": 111,
     "metadata": {},
     "output_type": "execute_result"
    }
   ],
   "source": [
    "bin(63)"
   ]
  },
  {
   "cell_type": "code",
   "execution_count": 187,
   "id": "e62c7642",
   "metadata": {
    "ExecuteTime": {
     "end_time": "2024-10-30T18:31:55.858555Z",
     "start_time": "2024-10-30T18:31:55.847922Z"
    }
   },
   "outputs": [
    {
     "data": {
      "text/plain": [
       "'0b11111111'"
      ]
     },
     "execution_count": 187,
     "metadata": {},
     "output_type": "execute_result"
    }
   ],
   "source": [
    "bin(256 - 1)"
   ]
  },
  {
   "cell_type": "code",
   "execution_count": 117,
   "id": "a288f720",
   "metadata": {
    "ExecuteTime": {
     "end_time": "2024-10-30T17:34:07.195661Z",
     "start_time": "2024-10-30T17:34:07.188598Z"
    }
   },
   "outputs": [],
   "source": [
    "mask = (1 << num_bits) - 1"
   ]
  },
  {
   "cell_type": "code",
   "execution_count": 118,
   "id": "5907159a",
   "metadata": {
    "ExecuteTime": {
     "end_time": "2024-10-30T17:34:10.108494Z",
     "start_time": "2024-10-30T17:34:10.101230Z"
    }
   },
   "outputs": [
    {
     "name": "stdout",
     "output_type": "stream",
     "text": [
      "0b1111\n",
      "0b101\n",
      "0b1010\n"
     ]
    }
   ],
   "source": [
    "print(bin(mask))\n",
    "print(bin(n))\n",
    "\n",
    "print(bin(n ^ mask))\n"
   ]
  },
  {
   "cell_type": "code",
   "execution_count": 96,
   "id": "4276d981",
   "metadata": {
    "ExecuteTime": {
     "end_time": "2024-10-30T17:26:42.778592Z",
     "start_time": "2024-10-30T17:26:42.774721Z"
    }
   },
   "outputs": [
    {
     "data": {
      "text/plain": [
       "'0b100'"
      ]
     },
     "execution_count": 96,
     "metadata": {},
     "output_type": "execute_result"
    }
   ],
   "source": [
    "bin(n)"
   ]
  },
  {
   "cell_type": "code",
   "execution_count": 100,
   "id": "84a95fcc",
   "metadata": {
    "ExecuteTime": {
     "end_time": "2024-10-30T17:27:39.728483Z",
     "start_time": "2024-10-30T17:27:39.705549Z"
    }
   },
   "outputs": [
    {
     "data": {
      "text/plain": [
       "'001'"
      ]
     },
     "execution_count": 100,
     "metadata": {},
     "output_type": "execute_result"
    }
   ],
   "source": [
    "\"\".join(list(reversed(bin(n)[2:])))"
   ]
  },
  {
   "cell_type": "code",
   "execution_count": 189,
   "id": "7ba6d32b",
   "metadata": {
    "ExecuteTime": {
     "end_time": "2024-10-30T18:36:56.649942Z",
     "start_time": "2024-10-30T18:36:56.640661Z"
    }
   },
   "outputs": [],
   "source": [
    "xs = defaultdict(list)"
   ]
  },
  {
   "cell_type": "code",
   "execution_count": 190,
   "id": "c5814455",
   "metadata": {
    "ExecuteTime": {
     "end_time": "2024-10-30T18:37:07.749524Z",
     "start_time": "2024-10-30T18:37:07.741757Z"
    }
   },
   "outputs": [],
   "source": [
    "xs[\"A\"].append(1)"
   ]
  },
  {
   "cell_type": "code",
   "execution_count": 191,
   "id": "658fc7b3",
   "metadata": {
    "ExecuteTime": {
     "end_time": "2024-10-30T18:37:13.487479Z",
     "start_time": "2024-10-30T18:37:13.470405Z"
    }
   },
   "outputs": [],
   "source": [
    "xs = dict()"
   ]
  },
  {
   "cell_type": "code",
   "execution_count": 192,
   "id": "718f4ce2",
   "metadata": {
    "ExecuteTime": {
     "end_time": "2024-10-30T18:37:22.171656Z",
     "start_time": "2024-10-30T18:37:22.146901Z"
    }
   },
   "outputs": [
    {
     "ename": "KeyError",
     "evalue": "'A'",
     "output_type": "error",
     "traceback": [
      "\u001b[0;31m---------------------------------------------------------------------------\u001b[0m",
      "\u001b[0;31mKeyError\u001b[0m                                  Traceback (most recent call last)",
      "\u001b[0;32m/var/folders/wm/khkwk2g178n7h8ngdvlc9htr0000gp/T/ipykernel_84731/157684766.py\u001b[0m in \u001b[0;36m<module>\u001b[0;34m\u001b[0m\n\u001b[0;32m----> 1\u001b[0;31m \u001b[0mxs\u001b[0m\u001b[0;34m[\u001b[0m\u001b[0;34m\"A\"\u001b[0m\u001b[0;34m]\u001b[0m\u001b[0;34m.\u001b[0m\u001b[0mappend\u001b[0m\u001b[0;34m(\u001b[0m\u001b[0;36m1\u001b[0m\u001b[0;34m)\u001b[0m\u001b[0;34m\u001b[0m\u001b[0;34m\u001b[0m\u001b[0m\n\u001b[0m",
      "\u001b[0;31mKeyError\u001b[0m: 'A'"
     ]
    }
   ],
   "source": [
    "xs[\"A\"].append(1)"
   ]
  },
  {
   "cell_type": "code",
   "execution_count": 101,
   "id": "be2e6514",
   "metadata": {
    "ExecuteTime": {
     "end_time": "2024-10-30T17:28:17.918753Z",
     "start_time": "2024-10-30T17:28:17.905987Z"
    }
   },
   "outputs": [],
   "source": [
    "def invert_bits(n, num_bits):\n",
    "    n10=int(''.join(list('0'*(num_bits-len(bin(n)[2:]))+bin(n)[2:])[::-1]),2)\n",
    "    #n10=int(''.join(reversed(list('0'*(4-len(bin(5)[2:]))+bin(5)[2:]))),2)\n",
    "    return n10"
   ]
  },
  {
   "cell_type": "code",
   "execution_count": 102,
   "id": "1ba47d14",
   "metadata": {
    "ExecuteTime": {
     "end_time": "2024-10-30T17:28:22.664468Z",
     "start_time": "2024-10-30T17:28:22.647731Z"
    }
   },
   "outputs": [
    {
     "data": {
      "text/plain": [
       "'0b1101111011010000111101'"
      ]
     },
     "execution_count": 102,
     "metadata": {},
     "output_type": "execute_result"
    }
   ],
   "source": [
    "bin(invert_bits(12332524, 24))"
   ]
  },
  {
   "cell_type": "code",
   "execution_count": 103,
   "id": "1edc5ef4",
   "metadata": {
    "ExecuteTime": {
     "end_time": "2024-10-30T17:28:29.957391Z",
     "start_time": "2024-10-30T17:28:29.940695Z"
    }
   },
   "outputs": [
    {
     "data": {
      "text/plain": [
       "'0b101111000010110111101100'"
      ]
     },
     "execution_count": 103,
     "metadata": {},
     "output_type": "execute_result"
    }
   ],
   "source": [
    "bin(12332524)"
   ]
  },
  {
   "cell_type": "code",
   "execution_count": 92,
   "id": "342bd176",
   "metadata": {
    "ExecuteTime": {
     "end_time": "2024-10-30T17:26:13.060004Z",
     "start_time": "2024-10-30T17:26:13.050933Z"
    }
   },
   "outputs": [],
   "source": [
    "def invert_bits(n, num_bits):\n",
    "    if n % 2 != 0:\n",
    "        n <<= 1\n",
    "    else:\n",
    "        n >>= 1\n",
    "    return n \n",
    " "
   ]
  },
  {
   "cell_type": "code",
   "execution_count": 95,
   "id": "7a00871c",
   "metadata": {
    "ExecuteTime": {
     "end_time": "2024-10-30T17:26:21.669617Z",
     "start_time": "2024-10-30T17:26:21.643966Z"
    }
   },
   "outputs": [
    {
     "data": {
      "text/plain": [
       "'0b10111100001011011110110'"
      ]
     },
     "execution_count": 95,
     "metadata": {},
     "output_type": "execute_result"
    }
   ],
   "source": [
    "bin(invert_bits(12332524, 24))"
   ]
  },
  {
   "cell_type": "code",
   "execution_count": 94,
   "id": "b113bc8b",
   "metadata": {
    "ExecuteTime": {
     "end_time": "2024-10-30T17:26:14.372012Z",
     "start_time": "2024-10-30T17:26:14.356872Z"
    }
   },
   "outputs": [
    {
     "data": {
      "text/plain": [
       "'0b101111000010110111101100'"
      ]
     },
     "execution_count": 94,
     "metadata": {},
     "output_type": "execute_result"
    }
   ],
   "source": [
    "bin(12332524)"
   ]
  },
  {
   "cell_type": "markdown",
   "id": "c29e6294",
   "metadata": {},
   "source": [
    "# Возведение числа в степень"
   ]
  },
  {
   "cell_type": "markdown",
   "id": "8d92e469",
   "metadata": {},
   "source": [
    "Напишите функцию, которая принимает два целых числа base и exponent и возвращает результат возведения base в степень exponent. Используйте метод “возведения в степень за логарифмическое время” (метод деления степени пополам)."
   ]
  },
  {
   "cell_type": "code",
   "execution_count": null,
   "id": "e00be170",
   "metadata": {},
   "outputs": [],
   "source": [
    "a ^ 64 = a ^ 32 * a ^ 32\n",
    "a ^ 63 = a * a ^ 62"
   ]
  },
  {
   "cell_type": "code",
   "execution_count": 14,
   "id": "0cbdf898",
   "metadata": {
    "ExecuteTime": {
     "end_time": "2024-10-30T05:24:49.050670Z",
     "start_time": "2024-10-30T05:24:49.038971Z"
    }
   },
   "outputs": [],
   "source": [
    "def power(base, exponent):\n",
    "    if exponent < 0:\n",
    "        base = 1 / base\n",
    "        exponent = - exponent\n",
    "    if exponent == 0:\n",
    "        return 1\n",
    "    \n",
    "    if exponent == 1:\n",
    "        return base\n",
    "    \n",
    "#     if exponent % 2 == 0:\n",
    "#         x = power(base, exponent // 2)\n",
    "#         return x * x\n",
    "#     if exponent % 2 == 1:\n",
    "#         return power(base, exponent - 1) * base\n",
    "    \n",
    "    result = 1\n",
    "    while exponent > 0:\n",
    "        if exponent % 2 == 1:\n",
    "            result *= base\n",
    "        base *= base\n",
    "        exponent //= 2\n",
    "    return result \n",
    "\n",
    "print(power(2, 10))    # Выход: 1024\n",
    "print(power(3, -2))    # Выход: 0.1111"
   ]
  },
  {
   "cell_type": "markdown",
   "id": "12002951",
   "metadata": {},
   "source": [
    "# Отрисовка ромба"
   ]
  },
  {
   "cell_type": "markdown",
   "id": "10a3d85a",
   "metadata": {},
   "source": [
    "Напишите функцию, которая принимает целое положительное число n и рисует ромб высотой 2 * n - 1 строк. Верхняя и нижняя части ромба должны иметь наибольшую ширину 2 * n - 1, а середина ромба (строка n) должна иметь максимальную ширину."
   ]
  },
  {
   "cell_type": "code",
   "execution_count": null,
   "id": "ee7eb667",
   "metadata": {},
   "outputs": [],
   "source": [
    "# draw_diamond(3)\n",
    "#   *\n",
    "#  ***\n",
    "# *****\n",
    "#  ***\n",
    "#   *"
   ]
  },
  {
   "cell_type": "code",
   "execution_count": 130,
   "id": "02122145",
   "metadata": {
    "ExecuteTime": {
     "end_time": "2024-10-30T17:48:09.431702Z",
     "start_time": "2024-10-30T17:48:09.420014Z"
    }
   },
   "outputs": [],
   "source": [
    "def draw_diamond(n):\n",
    "    draw_row = lambda i: print(' ' * (n - i) + '*' * (2 * i - 1))\n",
    "        \n",
    "    for i in range(1, n):\n",
    "        draw_row(i)\n",
    "        \n",
    "    draw_row(n)\n",
    "    \n",
    "    for i in range(n - 1, 0, -1):\n",
    "        draw_row(i)\n",
    " "
   ]
  },
  {
   "cell_type": "code",
   "execution_count": 131,
   "id": "78e0cd03",
   "metadata": {
    "ExecuteTime": {
     "end_time": "2024-10-30T17:48:10.306092Z",
     "start_time": "2024-10-30T17:48:10.286883Z"
    }
   },
   "outputs": [
    {
     "name": "stdout",
     "output_type": "stream",
     "text": [
      "      *\n",
      "     ***\n",
      "    *****\n",
      "   *******\n",
      "  *********\n",
      " ***********\n",
      "*************\n",
      " ***********\n",
      "  *********\n",
      "   *******\n",
      "    *****\n",
      "     ***\n",
      "      *\n"
     ]
    }
   ],
   "source": [
    "draw_diamond(7)"
   ]
  },
  {
   "cell_type": "code",
   "execution_count": 15,
   "id": "60766226",
   "metadata": {
    "ExecuteTime": {
     "end_time": "2024-10-30T05:45:35.770423Z",
     "start_time": "2024-10-30T05:45:35.759216Z"
    }
   },
   "outputs": [],
   "source": [
    "def draw_diamond(n):\n",
    "    pass"
   ]
  },
  {
   "cell_type": "markdown",
   "id": "4e65873f",
   "metadata": {
    "ExecuteTime": {
     "end_time": "2024-10-30T05:54:39.104633Z",
     "start_time": "2024-10-30T05:54:39.093934Z"
    }
   },
   "source": [
    "# Сортировка вставками"
   ]
  },
  {
   "cell_type": "markdown",
   "id": "82e456ec",
   "metadata": {},
   "source": [
    "Сортировка вставками работает по принципу упорядочивания списка “слева направо”. Алгоритм делит массив на две части: отсортированную и неотсортированную. На каждом шаге берётся первый элемент из неотсортированной части и вставляется в правильное место в отсортированной части. Эта операция выполняется до тех пор, пока неотсортированная часть не станет пустой.\n",
    "\n",
    "**Пошаговый пример:**   \n",
    "\n",
    "Для массива [5, 2, 9, 1, 5, 6]:\n",
    "\n",
    "1.\tНачинаем с 5 (считаем отсортированным).\n",
    "2.\tБерём 2, вставляем перед 5 → [2, 5, 9, 1, 5, 6].\n",
    "3.\tБерём 9, уже на своём месте → [2, 5, 9, 1, 5, 6].\n",
    "4.\tБерём 1, вставляем перед 2 → [1, 2, 5, 9, 5, 6].\n",
    "5.\tБерём 5, вставляем после первого 5 → [1, 2, 5, 5, 9, 6].\n",
    "6.\tБерём 6, вставляем перед 9 → [1, 2, 5, 5, 6, 9]."
   ]
  },
  {
   "cell_type": "code",
   "execution_count": null,
   "id": "b1424ef3",
   "metadata": {},
   "outputs": [],
   "source": [
    "O(n * n)"
   ]
  },
  {
   "cell_type": "code",
   "execution_count": 141,
   "id": "b1bfa9b8",
   "metadata": {
    "ExecuteTime": {
     "end_time": "2024-10-30T18:04:43.980684Z",
     "start_time": "2024-10-30T18:04:43.959198Z"
    }
   },
   "outputs": [],
   "source": [
    "def insertion_sort(alist):\n",
    "    for i in range(1, len(alist)):\n",
    "        temp = alist[i]\n",
    "        j = i - 1\n",
    "        while j >= 0 and temp < alist[j]:\n",
    "            alist[j + 1] = alist[j]\n",
    "            j = j - 1\n",
    "        alist[j + 1] = temp\n",
    "\n",
    "    return alist"
   ]
  },
  {
   "cell_type": "code",
   "execution_count": 135,
   "id": "7346e5cf",
   "metadata": {
    "ExecuteTime": {
     "end_time": "2024-10-30T17:58:27.643747Z",
     "start_time": "2024-10-30T17:58:27.633399Z"
    }
   },
   "outputs": [
    {
     "data": {
      "text/plain": [
       "[1, 2, 5, 5, 6, 9]"
      ]
     },
     "execution_count": 135,
     "metadata": {},
     "output_type": "execute_result"
    }
   ],
   "source": [
    "insertion_sort([5, 2, 9, 1, 5, 6])"
   ]
  },
  {
   "cell_type": "code",
   "execution_count": null,
   "id": "9f7d36c9",
   "metadata": {},
   "outputs": [],
   "source": [
    "def insertion_sort(arr):\n",
    "    pass"
   ]
  },
  {
   "cell_type": "markdown",
   "id": "0291f2b9",
   "metadata": {},
   "source": [
    "# Быстрая сортировка"
   ]
  },
  {
   "cell_type": "markdown",
   "id": "2035308e",
   "metadata": {},
   "source": [
    "Быстрая сортировка — это алгоритм, который работает по принципу разделяй и властвуй. Алгоритм выбирает так называемый опорный элемент (или “разделитель”) и делит массив на две части: элементы, меньшие опорного, и элементы, большие или равные ему. После этого рекурсивно выполняет ту же процедуру для каждой части массива. Это позволяет быстро упорядочить массив.\n",
    "\n",
    "**Как работает алгоритм:**\n",
    "\n",
    "1.\tВыбираем опорный элемент (обычно берётся средний элемент массива, но можно использовать и другие подходы).\n",
    "2.\tРазделяем массив на две части:\n",
    "    * Левая часть: все элементы, меньшие опорного.\n",
    "\t* Правая часть: все элементы, большие или равные опорному.\n",
    "3.\tРекурсивно применяем быструю сортировку к левой и правой частям.\n",
    "4.\tКогда массивы разделены до одного элемента, все элементы оказываются на своих местах, и массив становится отсортированным.\n",
    "\n",
    "**Пошаговый пример:**\n",
    "\n",
    "Для массива [5, 2, 9, 1, 5, 6]:\n",
    "\n",
    "\t1.\tБерём 5 как опорный элемент.\n",
    "\t2.\tРазделяем массив на [2, 1] (меньше 5) и [9, 5, 6] (больше или равно 5).\n",
    "\t3.\tРекурсивно сортируем [2, 1] → [1, 2].\n",
    "\t4.\tРекурсивно сортируем [9, 5, 6] → [5, 6, 9].\n",
    "\t5.\tСобираем всё вместе → [1, 2, 5, 5, 6, 9]."
   ]
  },
  {
   "cell_type": "code",
   "execution_count": 138,
   "id": "01b576ef",
   "metadata": {
    "ExecuteTime": {
     "end_time": "2024-10-30T18:00:15.074966Z",
     "start_time": "2024-10-30T18:00:15.062011Z"
    }
   },
   "outputs": [],
   "source": [
    "xs = [5, 2, 9, 1, 5, 6]"
   ]
  },
  {
   "cell_type": "code",
   "execution_count": 140,
   "id": "5fc650df",
   "metadata": {
    "ExecuteTime": {
     "end_time": "2024-10-30T18:00:21.810291Z",
     "start_time": "2024-10-30T18:00:21.782663Z"
    }
   },
   "outputs": [
    {
     "data": {
      "text/plain": [
       "[1, 2, 5, 5, 6, 9]"
      ]
     },
     "execution_count": 140,
     "metadata": {},
     "output_type": "execute_result"
    }
   ],
   "source": [
    "xs.sort()\n",
    "xs"
   ]
  },
  {
   "cell_type": "code",
   "execution_count": null,
   "id": "beb31652",
   "metadata": {},
   "outputs": [],
   "source": [
    "str = \"asdvfdbdf\"\n",
    "\n"
   ]
  },
  {
   "cell_type": "code",
   "execution_count": 142,
   "id": "f08efff4",
   "metadata": {
    "ExecuteTime": {
     "end_time": "2024-10-30T18:04:46.321087Z",
     "start_time": "2024-10-30T18:04:46.308140Z"
    }
   },
   "outputs": [],
   "source": [
    "def quick_sort(arr):\n",
    "    if len(arr) <= 1:\n",
    "        return arr\n",
    "    \n",
    "    pivot = arr[len(arr) // 2] # Опорный элемент\n",
    "    \n",
    "    left = [x for x in arr if x < pivot]     # Элементы меньше опорного\n",
    "    \n",
    "    middle = [x for x in arr if x == pivot]  # Элементы равные опорному\n",
    "    \n",
    "    right = [x for x in arr if x > pivot]    # Элементы больше опорного\n",
    "    \n",
    "    return quick_sort(left) + middle + quick_sort(right)"
   ]
  },
  {
   "cell_type": "code",
   "execution_count": 143,
   "id": "4aecb1db",
   "metadata": {
    "ExecuteTime": {
     "end_time": "2024-10-30T18:04:49.239668Z",
     "start_time": "2024-10-30T18:04:49.167607Z"
    }
   },
   "outputs": [
    {
     "name": "stdout",
     "output_type": "stream",
     "text": [
      "Время выполнения сортировки вставками: 0.05190 секунд\n",
      "Время выполнения быстрой сортировки: 0.00227 секунд\n"
     ]
    }
   ],
   "source": [
    "import random\n",
    "import time\n",
    "\n",
    "# Генерация случайного массива\n",
    "array_size = 1000\n",
    "array = [random.randint(0, 10000) for _ in range(array_size)]\n",
    "\n",
    "# Сравнение времени выполнения\n",
    "array_copy = array.copy()\n",
    "start_time = time.time()\n",
    "insertion_sort(array_copy)\n",
    "insertion_time = time.time() - start_time\n",
    "\n",
    "array_copy = array.copy()\n",
    "start_time = time.time()\n",
    "quick_sort(array_copy)\n",
    "quick_sort_time = time.time() - start_time\n",
    "\n",
    "print(f\"Время выполнения сортировки вставками: {insertion_time:.5f} секунд\")\n",
    "print(f\"Время выполнения быстрой сортировки: {quick_sort_time:.5f} секунд\")"
   ]
  },
  {
   "cell_type": "markdown",
   "id": "9d6f52b9",
   "metadata": {},
   "source": [
    "# Подсчёт количества слов в строке"
   ]
  },
  {
   "cell_type": "markdown",
   "id": "d59d25b2",
   "metadata": {},
   "source": [
    "Напишите функцию, которая принимает строку и возвращает количество слов в ней, не используя встроенные методы для работы со строками, такие как `split()`, `strip()`, `count()` и т. д. Слова разделяются одним или несколькими пробелами. Знаки препинания считаются частью слов.\n",
    "\n",
    "**Определение слова:** Непрерывная последовательность символов, отличных от пробела `(' ')`.\n",
    "\n",
    "**Пример:**\n",
    "* Вход: \"Hello,   world! How are you?\"\n",
    "* Выход: 5 (так как строка содержит пять слов)"
   ]
  },
  {
   "cell_type": "code",
   "execution_count": 152,
   "id": "449aa620",
   "metadata": {
    "ExecuteTime": {
     "end_time": "2024-10-30T18:13:39.295686Z",
     "start_time": "2024-10-30T18:13:39.279460Z"
    }
   },
   "outputs": [],
   "source": [
    "def count_words(s):\n",
    "    l = len(s)\n",
    "    count = 0\n",
    "    for i in range(l):\n",
    "        if s[i] ==' ' and s[i + 1] != ' ':\n",
    "            count += 1\n",
    "    if s[l - 1] != ' ':\n",
    "        count += 1\n",
    "    return count\n",
    " "
   ]
  },
  {
   "cell_type": "code",
   "execution_count": 154,
   "id": "1a813120",
   "metadata": {
    "ExecuteTime": {
     "end_time": "2024-10-30T18:14:08.653207Z",
     "start_time": "2024-10-30T18:14:08.639390Z"
    }
   },
   "outputs": [],
   "source": [
    "def count_words(s):\n",
    "\n",
    "    count = 0\n",
    "\n",
    "    for i in range(len(s)):\n",
    "\n",
    "        if s[i - 1] == \" \" and s[i] != ' ':\n",
    "\n",
    "            count+=1\n",
    "\n",
    "    return count+1\n",
    " \n",
    " "
   ]
  },
  {
   "cell_type": "code",
   "execution_count": 161,
   "id": "21df5a21",
   "metadata": {
    "ExecuteTime": {
     "end_time": "2024-10-30T18:16:21.824908Z",
     "start_time": "2024-10-30T18:16:21.814293Z"
    }
   },
   "outputs": [],
   "source": [
    "def count_words(s):\n",
    "\n",
    "    count = 0\n",
    "\n",
    "    in_word = False\n",
    "\n",
    "    for c in s:\n",
    "\n",
    "        if c != ' ':\n",
    "\n",
    "            if not in_word:\n",
    "\n",
    "                in_word = True\n",
    "\n",
    "                count += 1\n",
    "\n",
    "        else:\n",
    "\n",
    "            in_word = False\n",
    "\n",
    "    return count\n",
    " "
   ]
  },
  {
   "cell_type": "code",
   "execution_count": 157,
   "id": "4efd5d8c",
   "metadata": {
    "ExecuteTime": {
     "end_time": "2024-10-30T18:15:36.330028Z",
     "start_time": "2024-10-30T18:15:36.309035Z"
    }
   },
   "outputs": [
    {
     "data": {
      "text/plain": [
       "'f'"
      ]
     },
     "execution_count": 157,
     "metadata": {},
     "output_type": "execute_result"
    }
   ],
   "source": [
    "s = \"f\"\n",
    "s[-1]"
   ]
  },
  {
   "cell_type": "code",
   "execution_count": 170,
   "id": "fbda18f5",
   "metadata": {
    "ExecuteTime": {
     "end_time": "2024-10-30T18:19:58.114132Z",
     "start_time": "2024-10-30T18:19:58.104876Z"
    }
   },
   "outputs": [],
   "source": [
    "s = \"Hello,   wor ld !    How are you?  \""
   ]
  },
  {
   "cell_type": "code",
   "execution_count": 171,
   "id": "74028b36",
   "metadata": {
    "ExecuteTime": {
     "end_time": "2024-10-30T18:19:58.644556Z",
     "start_time": "2024-10-30T18:19:58.633955Z"
    }
   },
   "outputs": [
    {
     "name": "stdout",
     "output_type": "stream",
     "text": [
      "H BIG CHAR\n",
      "H BIG CHAR\n"
     ]
    }
   ],
   "source": [
    "for c in s:\n",
    "    if ord(\"A\") <= ord(c) <= ord(\"Z\"):\n",
    "        print(c, \"BIG CHAR\")"
   ]
  },
  {
   "cell_type": "code",
   "execution_count": 178,
   "id": "deffa922",
   "metadata": {
    "ExecuteTime": {
     "end_time": "2024-10-30T18:23:16.529661Z",
     "start_time": "2024-10-30T18:23:16.519876Z"
    }
   },
   "outputs": [
    {
     "data": {
      "text/plain": [
       "'㬛'"
      ]
     },
     "execution_count": 178,
     "metadata": {},
     "output_type": "execute_result"
    }
   ],
   "source": [
    "chr(15131)"
   ]
  },
  {
   "cell_type": "code",
   "execution_count": 173,
   "id": "33bf6f82",
   "metadata": {
    "ExecuteTime": {
     "end_time": "2024-10-30T18:22:52.484516Z",
     "start_time": "2024-10-30T18:22:52.461964Z"
    }
   },
   "outputs": [
    {
     "data": {
      "text/plain": [
       "1094"
      ]
     },
     "execution_count": 173,
     "metadata": {},
     "output_type": "execute_result"
    }
   ],
   "source": [
    "ord(\"ц\")"
   ]
  },
  {
   "cell_type": "code",
   "execution_count": 166,
   "id": "d17e65a8",
   "metadata": {
    "ExecuteTime": {
     "end_time": "2024-10-30T18:19:04.018155Z",
     "start_time": "2024-10-30T18:19:04.005874Z"
    }
   },
   "outputs": [
    {
     "name": "stdout",
     "output_type": "stream",
     "text": [
      "65\n",
      "90\n"
     ]
    }
   ],
   "source": [
    "print(ord(\"A\"))\n",
    "print(ord(\"Z\"))\n"
   ]
  },
  {
   "cell_type": "code",
   "execution_count": 162,
   "id": "fe973274",
   "metadata": {
    "ExecuteTime": {
     "end_time": "2024-10-30T18:16:24.446043Z",
     "start_time": "2024-10-30T18:16:24.426265Z"
    }
   },
   "outputs": [
    {
     "data": {
      "text/plain": [
       "7"
      ]
     },
     "execution_count": 162,
     "metadata": {},
     "output_type": "execute_result"
    }
   ],
   "source": [
    "count_words(\"Hello,   wor ld !    How are you?  \")"
   ]
  },
  {
   "cell_type": "code",
   "execution_count": 163,
   "id": "e2562fad",
   "metadata": {
    "ExecuteTime": {
     "end_time": "2024-10-30T18:16:25.961262Z",
     "start_time": "2024-10-30T18:16:25.941883Z"
    }
   },
   "outputs": [
    {
     "data": {
      "text/plain": [
       "0"
      ]
     },
     "execution_count": 163,
     "metadata": {},
     "output_type": "execute_result"
    }
   ],
   "source": [
    "count_words(\"\")"
   ]
  },
  {
   "cell_type": "code",
   "execution_count": null,
   "id": "39b0a6fc",
   "metadata": {},
   "outputs": [],
   "source": [
    "def count_words(s):\n",
    "    pass\n",
    "\n",
    "print(count_words(\"Hello,   world! How are you?\"))  # Выход: 5"
   ]
  },
  {
   "cell_type": "markdown",
   "id": "9311484c",
   "metadata": {},
   "source": [
    "# Удаление дубликатов слов в строке"
   ]
  },
  {
   "cell_type": "markdown",
   "id": "66001171",
   "metadata": {},
   "source": [
    "Напишите функцию, которая принимает строку и возвращает новую строку, в которой удалены все дубликаты слов. Слова должны сохранять порядок их первого появления в исходной строке. Считайте, что слова разделяются одним или несколькими пробелами и могут содержать знаки препинания.\n",
    "\n",
    "**Условия:**\n",
    "1.\tФункция должна быть нечувствительной к регистру (например, 'Hello' и 'hello' считаются одним и тем же словом).\n",
    "2.\tСлова, оставшиеся в результирующей строке, должны сохранять регистр их первого появления.\n",
    "\n",
    "**Пример:**\n",
    "* Вход: \"This is a test. This test is only a test.\"\n",
    "* Выход: \"This is a test. only\"\n",
    "* Вход: \"Hello World world hello\"\n",
    "* Выход: \"Hello World\""
   ]
  },
  {
   "cell_type": "code",
   "execution_count": 184,
   "id": "1f8f99c7",
   "metadata": {
    "ExecuteTime": {
     "end_time": "2024-10-30T18:28:10.209398Z",
     "start_time": "2024-10-30T18:28:10.183569Z"
    }
   },
   "outputs": [],
   "source": [
    "s = \"Hello World! world hello\"\n"
   ]
  },
  {
   "cell_type": "code",
   "execution_count": 185,
   "id": "93d6686a",
   "metadata": {
    "ExecuteTime": {
     "end_time": "2024-10-30T18:28:11.105639Z",
     "start_time": "2024-10-30T18:28:11.089919Z"
    }
   },
   "outputs": [
    {
     "data": {
      "text/plain": [
       "'Hello World! world'"
      ]
     },
     "execution_count": 185,
     "metadata": {},
     "output_type": "execute_result"
    }
   ],
   "source": [
    "def remove_duplicate_words(s):\n",
    "    seen = set()\n",
    "    result = []\n",
    "    words = s.split()\n",
    "    for word in words:\n",
    "        word_lower = word.lower()\n",
    "        if word_lower not in seen:\n",
    "            seen.add(word_lower)\n",
    "            result.append(word)\n",
    "    return \" \".join(result)\n",
    "remove_duplicate_words(s)           "
   ]
  },
  {
   "cell_type": "code",
   "execution_count": 193,
   "id": "dbaed88b",
   "metadata": {
    "ExecuteTime": {
     "end_time": "2024-10-30T18:51:17.733884Z",
     "start_time": "2024-10-30T18:51:17.719278Z"
    }
   },
   "outputs": [],
   "source": [
    "def f():\n",
    "    return 1"
   ]
  },
  {
   "cell_type": "code",
   "execution_count": 194,
   "id": "8e3eb59f",
   "metadata": {
    "ExecuteTime": {
     "end_time": "2024-10-30T18:51:25.980797Z",
     "start_time": "2024-10-30T18:51:25.957654Z"
    }
   },
   "outputs": [],
   "source": [
    "f.f = lambda x:x"
   ]
  },
  {
   "cell_type": "code",
   "execution_count": 196,
   "id": "819143c9",
   "metadata": {
    "ExecuteTime": {
     "end_time": "2024-10-30T18:51:32.889727Z",
     "start_time": "2024-10-30T18:51:32.870690Z"
    }
   },
   "outputs": [
    {
     "data": {
      "text/plain": [
       "5"
      ]
     },
     "execution_count": 196,
     "metadata": {},
     "output_type": "execute_result"
    }
   ],
   "source": [
    "f.f(5)"
   ]
  }
 ],
 "metadata": {
  "kernelspec": {
   "display_name": "Python 3 (ipykernel)",
   "language": "python",
   "name": "python3"
  },
  "language_info": {
   "codemirror_mode": {
    "name": "ipython",
    "version": 3
   },
   "file_extension": ".py",
   "mimetype": "text/x-python",
   "name": "python",
   "nbconvert_exporter": "python",
   "pygments_lexer": "ipython3",
   "version": "3.9.7"
  }
 },
 "nbformat": 4,
 "nbformat_minor": 5
}
