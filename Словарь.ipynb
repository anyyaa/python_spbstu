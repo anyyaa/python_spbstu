{
 "cells": [
  {
   "cell_type": "markdown",
   "id": "e4d450c2",
   "metadata": {},
   "source": [
    "# Словарь"
   ]
  },
  {
   "cell_type": "markdown",
   "id": "ca42b161",
   "metadata": {
    "ExecuteTime": {
     "end_time": "2024-11-12T17:23:33.620558Z",
     "start_time": "2024-11-12T17:23:33.612887Z"
    }
   },
   "source": [
    "## Порядок сдачи домашнего"
   ]
  },
  {
   "cell_type": "markdown",
   "id": "1ff1df47",
   "metadata": {},
   "source": [
    "Вам требуется создать гит репозиторий куда вы будете складывать все ваши домашние. Под каждое домашнее вы создаете отдельную ветку куда вносите все изменения в рамках домашнего. Как только домашнее готово - создаете пулл реквест (обратите внимание что в пулл реквесте должны быть отражены все изменения в рамках домашнего) или присылаете код в СДО. Ревьювером назначаете http://github.com/michael15346/ и https://github.com/shgpavel . Перед сдачей проверьте код, напишите тесты. Не забудьте про PEP8, например, с помощью flake8. Задание нужно делать в jupyter notebook.\n",
    "\n",
    "**Дедлайн - 25 ноября 10:00**"
   ]
  },
  {
   "cell_type": "markdown",
   "id": "f9fd13a2",
   "metadata": {},
   "source": [
    "Во время лекции мы с вами познакомились с различными реализациями множества и массива. Задача домашнего задания реализовать собственное множество. Операции добавления и удаления должны работать аммортизированное $O(1)$.\n",
    "\n",
    "Пример использования:\n",
    "```python\n",
    "d = Dict()\n",
    "d[\"name\"] = \"Peter\"\n",
    "d[\"age\"] = 25\n",
    "d[\"city\"] = \"Saint-Petersburg\"\n",
    "\n",
    "print(d[\"name\"])\n",
    "Peter\n",
    "\n",
    "print(\"age\" in d)\n",
    "True\n",
    "\n",
    "del d[\"city\"]\n",
    "\n",
    "print(d.keys())\n",
    "['name', 'age']\n",
    "\n",
    "print(d.values())\n",
    "['Peter', 25]\n",
    "\n",
    "print(d.items())\n",
    "[('name', 'Peter'), ('age', 25)]\n",
    "\n",
    "print(d)\n",
    "{'name': 'Peter', 'age': 25}\n",
    "```"
   ]
  },
  {
   "cell_type": "code",
   "execution_count": 3,
   "id": "1f4b4200-ff25-4284-86cc-0c9c2167f068",
   "metadata": {},
   "outputs": [],
   "source": [
    "class Dict:\n",
    "    def __init__(self, size=100):\n",
    "        self._size = size\n",
    "        self._buckets = [[] for _ in range(size)]\n",
    "        self._keys = set()\n",
    "\n",
    "    def _hash(self, key):\n",
    "        return hash(key) % self._size\n",
    "\n",
    "    def __setitem__(self, key, value):\n",
    "        \"\"\"Добавление или обновление значения по ключу.\"\"\"\n",
    "        index = self._hash(key)\n",
    "        for i, (k, v) in enumerate(self._buckets[index]):\n",
    "            if k == key:\n",
    "                self._buckets[index][i] = (key, value)\n",
    "                return\n",
    "        self._buckets[index].append((key, value))\n",
    "        self._keys.add(key)\n",
    "        \n",
    "    def __getitem__(self, key):\n",
    "        \"\"\"Получение значения по ключу.\"\"\"\n",
    "        index = self._hash(key)\n",
    "        for k, v in self._buckets[index]:\n",
    "            if key == k:\n",
    "                return v\n",
    "        raise KeyError('key not found')              \n",
    "\n",
    "    def __delitem__(self, key):\n",
    "        \"\"\"Удаление ключа и значения.\"\"\"\n",
    "        index = self._hash(key)\n",
    "        for i, (k, v) in enumerate(self._buckets[index]):\n",
    "            if k == key:\n",
    "                del self._buckets[index][i]\n",
    "                self._keys.remove(key)\n",
    "                return\n",
    "        raise KeyError('key not found')\n",
    "        \n",
    "    def __contains__(self, key):\n",
    "        \"\"\"Проверка наличия ключа.\"\"\"\n",
    "        return key in self._keys\n",
    "\n",
    "    def keys(self):\n",
    "        \"\"\"Получение всех ключей.\"\"\"\n",
    "        return list(self._keys)\n",
    "        \n",
    "    def values(self):\n",
    "        \"\"\"Получение всех значений.\"\"\"\n",
    "        return [v for bucket in self._buckets for k, v in bucket]\n",
    "        \n",
    "    def items(self):\n",
    "        \"\"\"Получение всех пар (ключ, значение).\"\"\"\n",
    "        return [(k, v) for bucket in self._buckets for k, v in bucket]\n",
    "        \n",
    "    def __repr__(self):\n",
    "        \"\"\"Представление таблицы.\"\"\"\n",
    "        return \"{\" + \", \".join(f\"'{k}': {repr(v)}\" for k, v in self.items()) + \"}\""
   ]
  },
  {
   "cell_type": "code",
   "execution_count": 4,
   "id": "2572a70e-7289-4b3c-b859-94e29e239031",
   "metadata": {},
   "outputs": [],
   "source": [
    "d = Dict()\n",
    "d[\"name\"] = \"Peter\"\n",
    "d[\"age\"] = 25\n",
    "d[\"city\"] = \"Saint-Petersburg\""
   ]
  },
  {
   "cell_type": "code",
   "execution_count": 5,
   "id": "003da617-5492-4dca-ab00-8f9aa9298ec3",
   "metadata": {},
   "outputs": [
    {
     "name": "stdout",
     "output_type": "stream",
     "text": [
      "Peter\n"
     ]
    }
   ],
   "source": [
    "print(d[\"name\"])"
   ]
  },
  {
   "cell_type": "code",
   "execution_count": 6,
   "id": "0c131bd1-f14c-4e9e-90e9-8da9cb50a6fd",
   "metadata": {},
   "outputs": [
    {
     "name": "stdout",
     "output_type": "stream",
     "text": [
      "True\n"
     ]
    }
   ],
   "source": [
    "print(\"age\" in d)"
   ]
  },
  {
   "cell_type": "code",
   "execution_count": 7,
   "id": "74d1c829-cfac-4e2b-a2e1-65b342097577",
   "metadata": {},
   "outputs": [],
   "source": [
    "del d[\"city\"]"
   ]
  },
  {
   "cell_type": "code",
   "execution_count": 8,
   "id": "24519091-293e-4913-87c5-91bfc5817083",
   "metadata": {},
   "outputs": [
    {
     "name": "stdout",
     "output_type": "stream",
     "text": [
      "['name', 'age']\n"
     ]
    }
   ],
   "source": [
    "print(d.keys())"
   ]
  },
  {
   "cell_type": "code",
   "execution_count": 9,
   "id": "e8461e97-1462-4221-abde-cde85be0a59a",
   "metadata": {},
   "outputs": [
    {
     "name": "stdout",
     "output_type": "stream",
     "text": [
      "[25, 'Peter']\n"
     ]
    }
   ],
   "source": [
    "print(d.values())"
   ]
  },
  {
   "cell_type": "code",
   "execution_count": 10,
   "id": "d0def5ae-8c65-4cc8-9cda-5098ef0da6df",
   "metadata": {},
   "outputs": [
    {
     "name": "stdout",
     "output_type": "stream",
     "text": [
      "[('age', 25), ('name', 'Peter')]\n"
     ]
    }
   ],
   "source": [
    "print(d.items())"
   ]
  },
  {
   "cell_type": "code",
   "execution_count": 11,
   "id": "f71da8b5-5988-4ad2-8110-5ab874755d00",
   "metadata": {},
   "outputs": [
    {
     "name": "stdout",
     "output_type": "stream",
     "text": [
      "{'age': 25, 'name': 'Peter'}\n"
     ]
    }
   ],
   "source": [
    "print(d)"
   ]
  }
 ],
 "metadata": {
  "kernelspec": {
   "display_name": "Python 3 (ipykernel)",
   "language": "python",
   "name": "python3"
  },
  "language_info": {
   "codemirror_mode": {
    "name": "ipython",
    "version": 3
   },
   "file_extension": ".py",
   "mimetype": "text/x-python",
   "name": "python",
   "nbconvert_exporter": "python",
   "pygments_lexer": "ipython3",
   "version": "3.11.7"
  }
 },
 "nbformat": 4,
 "nbformat_minor": 5
}
