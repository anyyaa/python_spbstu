{
 "cells": [
  {
   "cell_type": "markdown",
   "id": "4feb6bdc",
   "metadata": {},
   "source": [
    "# Конторальная работа"
   ]
  },
  {
   "cell_type": "markdown",
   "id": "4b6631bd",
   "metadata": {},
   "source": [
    "## Порядок сдачи"
   ]
  },
  {
   "cell_type": "markdown",
   "id": "bee4fcc0",
   "metadata": {},
   "source": [
    "Каждое задание оценивается в 10 баллов. Код нужно отправить напрямую в СДО как текст. Перед сдачей проверьте код, напишите тесты. Не забудьте про `PEP8`, например, с помощью `flake8`.\n",
    "\n",
    "Дедлайн - 9 декабря 10:00"
   ]
  },
  {
   "cell_type": "markdown",
   "id": "d777f71d",
   "metadata": {
    "ExecuteTime": {
     "end_time": "2024-11-03T13:46:28.412754Z",
     "start_time": "2024-11-03T13:46:28.400723Z"
    }
   },
   "source": [
    "## Разворот строки"
   ]
  },
  {
   "cell_type": "markdown",
   "id": "922a2c11",
   "metadata": {
    "ExecuteTime": {
     "end_time": "2024-11-29T05:14:51.098358Z",
     "start_time": "2024-11-29T05:14:51.077875Z"
    }
   },
   "source": [
    "Напишите функцию, которая принимает строку в качестве входного параметра и возвращает новую строку, в которой символы исходной строки расположены в обратном порядке."
   ]
  },
  {
   "cell_type": "code",
   "execution_count": 38,
   "id": "806e728c",
   "metadata": {
    "ExecuteTime": {
     "end_time": "2024-11-29T05:16:11.730919Z",
     "start_time": "2024-11-29T05:16:11.713903Z"
    }
   },
   "outputs": [
    {
     "name": "stdout",
     "output_type": "stream",
     "text": [
      "olleh\n",
      "тевирП\n",
      "54321\n",
      "\n",
      "1\n",
      "121\n",
      "121\n"
     ]
    }
   ],
   "source": [
    "def reverse_string(s: str):\n",
    "    if not isinstance(s, str):\n",
    "        s = str(s)\n",
    "    return s[::-1]\n",
    "\n",
    "\n",
    "# tests\n",
    "print(reverse_string(\"hello\"))    # Вывод: \"olleh\"\n",
    "print(reverse_string(\"Привет\"))   # Вывод: \"тевирП\"\n",
    "print(reverse_string(\"12345\"))    # Вывод: \"54321\"\n",
    "print(reverse_string(\"\"))         # пустая строка\n",
    "print(reverse_string('1'))        # остается неизменной\n",
    "print(reverse_string(\"121\"))      # полиндром\n",
    "print(reverse_string(121))        # если не строка, делаем строку"
   ]
  },
  {
   "cell_type": "markdown",
   "id": "4e5cb30c",
   "metadata": {},
   "source": [
    "# Ромб"
   ]
  },
  {
   "cell_type": "markdown",
   "id": "5cfea6f0",
   "metadata": {},
   "source": [
    "Напишите функцию, которая выводит на экран ромб, составленный из символов звёздочек `*`. Размер ромба определяется введённым пользователем нечётным числом n, которое задаёт ширину (и высоту) ромба в его самой широкой части."
   ]
  },
  {
   "cell_type": "code",
   "execution_count": 18,
   "id": "4b19f7e2",
   "metadata": {},
   "outputs": [
    {
     "name": "stdout",
     "output_type": "stream",
     "text": [
      "   *   \n",
      "  ***  \n",
      " ***** \n",
      "*******\n",
      " ***** \n",
      "  ***  \n",
      "   *   \n",
      "---\n",
      "*\n",
      "---\n",
      "  *  \n",
      " *** \n",
      "*****\n",
      " *** \n",
      "  *  \n",
      "---\n",
      "---\n",
      "*\n"
     ]
    }
   ],
   "source": [
    "def draw(n: int):\n",
    "    if not n % 2: # если передается четное число, уменьшаем его на 1\n",
    "        n -= 1\n",
    "        \n",
    "    mid = n // 2\n",
    "    for i in range(mid + 1):\n",
    "        spaces = mid - i\n",
    "        stars = 2 * i + 1\n",
    "        print(' ' * spaces + '*' * stars)\n",
    "        \n",
    "    for i in range(mid - 1, -1, -1):\n",
    "        spaces = mid - i\n",
    "        stars = 2 * i + 1\n",
    "        print(' ' * spaces + '*' * stars)\n",
    "\n",
    "# tests\n",
    "draw(7)\n",
    "#   *\n",
    "#  ***\n",
    "# *****\n",
    "#*******\n",
    "# *****\n",
    "#  ***\n",
    "#   *\n",
    "print('---')\n",
    "draw(1)\n",
    "print('---')\n",
    "draw(6)\n",
    "print('---')\n",
    "draw(0)\n",
    "print('---')\n",
    "draw(2)\n",
    "print('---')"
   ]
  },
  {
   "cell_type": "markdown",
   "id": "a86c90c8",
   "metadata": {},
   "source": [
    "# НОД"
   ]
  },
  {
   "cell_type": "markdown",
   "id": "3f967b9f",
   "metadata": {
    "ExecuteTime": {
     "end_time": "2024-11-29T05:21:08.316284Z",
     "start_time": "2024-11-29T05:21:08.286749Z"
    }
   },
   "source": [
    "Напишите функцию, которая вычисляет наибольший общий делитель (НОД) двух целых чисел."
   ]
  },
  {
   "cell_type": "code",
   "execution_count": 23,
   "id": "de608275",
   "metadata": {},
   "outputs": [
    {
     "name": "stdout",
     "output_type": "stream",
     "text": [
      "6\n",
      "25\n",
      "1\n",
      "10\n",
      "0\n",
      "1\n"
     ]
    }
   ],
   "source": [
    "def gcd(a: int, b: int) -> int:\n",
    "    while b != 0:\n",
    "        a, b = b, a % b\n",
    "    return abs(a)\n",
    "\n",
    "\n",
    "# tests \n",
    "print(gcd(48, 18))   # Вывод: 6\n",
    "print(gcd(100, 25))  # Вывод: 25\n",
    "print(gcd(17, 13))   # Вывод: 1\n",
    "print(gcd(10, 10))   # 10\n",
    "print(gcd(0, 0))     # 0\n",
    "print(gcd(0, 1))     # 1"
   ]
  },
  {
   "cell_type": "markdown",
   "id": "49641d4f",
   "metadata": {
    "ExecuteTime": {
     "end_time": "2024-11-29T05:22:49.681923Z",
     "start_time": "2024-11-29T05:22:49.657297Z"
    }
   },
   "source": [
    "# Система счисления"
   ]
  },
  {
   "cell_type": "markdown",
   "id": "82e1a3cf",
   "metadata": {},
   "source": [
    "Напишите функцию, которая принимает строковое представление числа в произвольной системе (макс. 36) счисления и его основание, и возвращает это число в десятичной системе счисления."
   ]
  },
  {
   "cell_type": "code",
   "execution_count": 60,
   "id": "0365d57b",
   "metadata": {
    "ExecuteTime": {
     "end_time": "2024-11-29T05:23:50.498455Z",
     "start_time": "2024-11-29T05:23:50.480951Z"
    }
   },
   "outputs": [
    {
     "name": "stdout",
     "output_type": "stream",
     "text": [
      "10\n",
      "26\n",
      "83\n",
      "371\n",
      "35\n"
     ]
    }
   ],
   "source": [
    "def convert_to_decimal(number_str: str, base: int) -> int:\n",
    "    if not isinstance(number_str, str):\n",
    "        raise TypeError(\"аргумент 'number_str' должен быть строкой\")\n",
    "    if not isinstance(base, int):\n",
    "        raise TypeError(\"ргумент 'base' должен быть целым числом\")\n",
    "    \n",
    "    output_value = 0\n",
    "    digits = \"0123456789ABCDEFGHIJKLMNOPQRSTUVWXYZ\"\n",
    "    number_str = reversed(number_str.upper())\n",
    "\n",
    "    for i, d in enumerate(number_str):\n",
    "        val = digits.index(d)\n",
    "        if val > base:\n",
    "            raise ValueError(f\"недопустимый символ '{digit}' для системы с основанием {base}\")\n",
    "        output_value += val * (base ** i)\n",
    "    return output_value\n",
    "\n",
    "\n",
    "print(convert_to_decimal(\"1010\", 2))    # Вывод: 10\n",
    "print(convert_to_decimal(\"1A\", 16))     # Вывод: 26\n",
    "print(convert_to_decimal(\"123\", 8))     # Вывод: 83\n",
    "print(convert_to_decimal(\"ab\", 36))     # 371     \n",
    "print(convert_to_decimal(\"Z\", 36))      # Вывод: 35\n",
    "#print(convert_to_decimal(9, 5))         # ошибка"
   ]
  },
  {
   "cell_type": "markdown",
   "id": "be9f88ed",
   "metadata": {
    "ExecuteTime": {
     "end_time": "2024-11-29T05:24:07.620180Z",
     "start_time": "2024-11-29T05:24:07.594765Z"
    }
   },
   "source": [
    "# Палиндром"
   ]
  },
  {
   "cell_type": "markdown",
   "id": "f0a84a85",
   "metadata": {},
   "source": [
    "Напишите функцию, которая проверяет, является ли заданная строка палиндромом."
   ]
  },
  {
   "cell_type": "code",
   "execution_count": 43,
   "id": "70581d0a",
   "metadata": {
    "ExecuteTime": {
     "end_time": "2024-11-29T05:25:32.462861Z",
     "start_time": "2024-11-29T05:25:32.440252Z"
    }
   },
   "outputs": [
    {
     "name": "stdout",
     "output_type": "stream",
     "text": [
      "True\n",
      "True\n",
      "False\n",
      "True\n",
      "True\n",
      "True\n"
     ]
    }
   ],
   "source": [
    "def is_palindrome(s):\n",
    "    if not isinstance(s, str):\n",
    "        s = str(s)\n",
    "    mid = len(s) // 2\n",
    "    for i in range(mid):\n",
    "        if s[i] != s[-i-1]:\n",
    "            return False\n",
    "    return True\n",
    "            \n",
    "\n",
    "print(is_palindrome(\"мадам\"))                  # Вывод: True\n",
    "print(is_palindrome(\"топот\"))                  # Вывод: True\n",
    "print(is_palindrome(\"привет\"))                 # Вывод: False\n",
    "print(is_palindrome(\" \"))                      # true\n",
    "print(is_palindrome(''))                       # true\n",
    "print(is_palindrome('1111'))                   # true        "
   ]
  },
  {
   "cell_type": "markdown",
   "id": "71e9e2d5",
   "metadata": {},
   "source": [
    "# k порядковая статистика"
   ]
  },
  {
   "cell_type": "markdown",
   "id": "6684874d",
   "metadata": {},
   "source": [
    "Напишите функцию, которая принимает массив чисел и целое число $k$, и вычисляет количество элементов в массиве, которые больше, чем элемент, находящийся на позиции $k$ в упорядоченном по возрастанию массиве (т.е. больше, чем $k$-я порядковая статистика)."
   ]
  },
  {
   "cell_type": "code",
   "execution_count": 48,
   "id": "44ed558c",
   "metadata": {},
   "outputs": [
    {
     "name": "stdout",
     "output_type": "stream",
     "text": [
      "[8, 6]\n",
      "[]\n",
      "[5, 3, 8, 6]\n",
      "[]\n"
     ]
    }
   ],
   "source": [
    "def count_greater_than_kth(arr, k):\n",
    "    if not isinstance(arr, list) or not all(isinstance(x, (int, float)) for x in arr):\n",
    "        raise TypeError(\"массив должен содержать только числа\")\n",
    "    if not isinstance(k, int):\n",
    "        raise TypeError(\"индекс k должен быть целым числом\")\n",
    "    if k < 1 or k > len(arr):\n",
    "        raise ValueError(\"индекс k должен быть от 1 до длины массива\")\n",
    "    \n",
    "    sorted_arr = sorted(arr)\n",
    "    kth_element = sorted_arr[k - 1]\n",
    "    return [x for x in arr if x > kth_element]\n",
    "\n",
    "\n",
    "arr = [5, 3, 8, 6, 2]\n",
    "k = 3\n",
    "result = count_greater_than_kth(arr, k)\n",
    "print(result)  # Вывод: [8, 6]\n",
    "\n",
    "arr = [1, 1, 1, 1, 1]\n",
    "k = 3\n",
    "result = count_greater_than_kth(arr, k)\n",
    "print(result)  # Вывод: []\n",
    "\n",
    "arr = [5, 3, 8, 6, 2]\n",
    "k = 1\n",
    "result = count_greater_than_kth(arr, k)\n",
    "print(result)  # Вывод: [5, 3, 8, 6]\n",
    "\n",
    "arr = [1, 2, 3, 4, 5]\n",
    "k = 5\n",
    "result = count_greater_than_kth(arr, k)\n",
    "print(result)  # Вывод: []"
   ]
  },
  {
   "cell_type": "markdown",
   "id": "77efd0dc",
   "metadata": {},
   "source": [
    "# Уникальные подстроки"
   ]
  },
  {
   "cell_type": "markdown",
   "id": "46fef851",
   "metadata": {},
   "source": [
    "Напишите функцию, которая принимает строку и целое число k, и подсчитывает количество уникальных подстрок длины k в этом тексте."
   ]
  },
  {
   "cell_type": "code",
   "execution_count": 65,
   "id": "424e65b3",
   "metadata": {},
   "outputs": [
    {
     "name": "stdout",
     "output_type": "stream",
     "text": [
      "3\n",
      "0\n",
      "1\n",
      "6\n"
     ]
    }
   ],
   "source": [
    "def count_unique_substrings(text, k):\n",
    "    unique = set()\n",
    "    for i in range(len(text) - k + 1):\n",
    "        substring = text[i:i + k]\n",
    "        unique.add(substring)\n",
    "    # print(unique)\n",
    "    return len(unique)\n",
    "\n",
    "text = \"abcabc\"\n",
    "k = 3\n",
    "result = count_unique_substrings(text, k)\n",
    "print(result)  # Вывод: 3\n",
    "\n",
    "print(count_unique_substrings(\"\", 3))        # Вывод: 0\n",
    "print(count_unique_substrings(\"aaaa\", 2))    # Вывод: 1 \n",
    "print(count_unique_substrings(\"abcdef\", 1))  # Вывод: 6 "
   ]
  },
  {
   "cell_type": "markdown",
   "id": "cf18ac36",
   "metadata": {},
   "source": [
    "# Минимум"
   ]
  },
  {
   "cell_type": "markdown",
   "id": "9877ee9c",
   "metadata": {},
   "source": [
    "Напишите функцию, которая для заданного целого числа N находит такие целые положительные числа $a, b, c$, что произведение $a * b * c = N$, и сумма $a + b + c$ минимальна."
   ]
  },
  {
   "cell_type": "code",
   "execution_count": 59,
   "id": "d9d979e2",
   "metadata": {},
   "outputs": [
    {
     "name": "stdout",
     "output_type": "stream",
     "text": [
      "(2, 2, 3)\n",
      "(3, 3, 3)\n",
      "(1, 1, 7)\n",
      "(4, 5, 5)\n",
      "(3, 4, 5)\n",
      "(2, 3, 4)\n"
     ]
    }
   ],
   "source": [
    "def minimum(n):\n",
    "    min_sum = float('inf')\n",
    "    best = (1, 1, n)  \n",
    "    for a in range(1, int(n ** (1/3)) + 1):\n",
    "        if n % a == 0:\n",
    "            for b in range(a, int(n ** (1/3) + 1) + 1):\n",
    "                if (n // a) % b == 0:\n",
    "                    c = n // (a * b)\n",
    "                    current_sum = a + b + c\n",
    "                    if current_sum < min_sum:\n",
    "                        min_sum = current_sum\n",
    "                        best = (a, b, c)    \n",
    "    return best\n",
    "\n",
    "\n",
    "\n",
    "print(minimum(12))                  # Вывод: 2, 2, 3\n",
    "print(minimum(27))                  # Вывод: 3, 3, 3\n",
    "print(minimum(7))                   # Вывод: 1, 1, 7\n",
    "print(minimum(100))                 # Вывод: 4, 5, 5\n",
    "print(minimum(60))                  # Вывод: 3, 4, 5\n",
    "print(minimum(24))                  # Вывод: 2, 3, 4"
   ]
  },
  {
   "cell_type": "markdown",
   "id": "9e5b32c1",
   "metadata": {
    "ExecuteTime": {
     "end_time": "2024-11-29T05:39:16.335011Z",
     "start_time": "2024-11-29T05:39:16.321409Z"
    }
   },
   "source": [
    "# Определитель"
   ]
  },
  {
   "cell_type": "markdown",
   "id": "1458eff3",
   "metadata": {
    "ExecuteTime": {
     "end_time": "2024-11-29T05:39:34.497125Z",
     "start_time": "2024-11-29T05:39:34.474266Z"
    }
   },
   "source": [
    "Напишите функцию, которая вычисляет определитель заданной квадратной матрицы."
   ]
  },
  {
   "cell_type": "code",
   "execution_count": 55,
   "id": "40491c23",
   "metadata": {},
   "outputs": [
    {
     "name": "stdout",
     "output_type": "stream",
     "text": [
      "-2\n",
      "4\n",
      "-306\n",
      "-418\n"
     ]
    }
   ],
   "source": [
    "def determinant(matrix):\n",
    "    if not all(len(row) == len(matrix) for row in matrix):\n",
    "        raise ValueError(\"матрица должна быть квадратной\")\n",
    "    \n",
    "    n = len(matrix)\n",
    "    if n == 1:\n",
    "        return matrix[0][0]\n",
    "    if n == 2:\n",
    "        return matrix[0][0] * matrix[1][1] - matrix[0][1] * matrix[1][0]\n",
    "\n",
    "    det = 0\n",
    "    for col in range(n):\n",
    "        sub_matrix = [\n",
    "            [matrix[i][j] for j in range(n) if j != col]\n",
    "            for i in range(1, n)\n",
    "        ]\n",
    "        sign = (-1) ** col\n",
    "        det += sign * matrix[0][col] * determinant(sub_matrix)\n",
    "    \n",
    "    return det\n",
    "\n",
    "\n",
    "matrix = [\n",
    "    [1, 2],\n",
    "    [3, 4]\n",
    "]\n",
    "result = determinant(matrix)\n",
    "print(result)  # Вывод: -2\n",
    "\n",
    "matrix_1 = [[4]]\n",
    "matrix_2 = [[6, 1, 1], [4, -2, 5], [2, 8, 7]]\n",
    "print(determinant(matrix_1))  # Вывод: 4\n",
    "print(determinant(matrix_2))  # Вывод: -306\n",
    "\n",
    "matrix_3 = [\n",
    "    [3, 2, -1, 4],\n",
    "    [2, 1, 5, 7],\n",
    "    [0, 5, 2, -6],\n",
    "    [-1, 2, 1, 0]\n",
    "]\n",
    "print(determinant(matrix_3))  # Вывод: -418"
   ]
  },
  {
   "cell_type": "markdown",
   "id": "c9983f43",
   "metadata": {},
   "source": [
    "# Скобочная последовательность"
   ]
  },
  {
   "cell_type": "markdown",
   "id": "e776102b",
   "metadata": {},
   "source": [
    "Напишите функцию, которая проверяет правильность скобочной последовательности в заданной строке. Последовательность считается правильной, если все открывающиеся скобки корректно закрываются соответствующими закрывающими скобками в правильном порядке."
   ]
  },
  {
   "cell_type": "code",
   "execution_count": 52,
   "id": "0afd220e",
   "metadata": {},
   "outputs": [
    {
     "name": "stdout",
     "output_type": "stream",
     "text": [
      "True\n",
      "True\n",
      "True\n",
      "True\n",
      "False\n",
      "False\n",
      "False\n"
     ]
    }
   ],
   "source": [
    "def is_valid_sequence(s):\n",
    "    stack = []\n",
    "    brackets = {'(': ')', '{': '}', '[': ']'}\n",
    "    for char in s:\n",
    "        if char in brackets.keys():\n",
    "            stack.append(char)\n",
    "        elif char in brackets.values():\n",
    "            if not stack or brackets[stack.pop()] != char:\n",
    "                return False\n",
    "\n",
    "    return not stack\n",
    "\n",
    "s = \"({[]})\"\n",
    "result = is_valid_sequence(s)\n",
    "print(result)  # Вывод: True\n",
    "\n",
    "print(is_valid_sequence(\"()\"))      # Вывод: True\n",
    "print(is_valid_sequence(\"({[]})\"))  # Вывод: True\n",
    "print(is_valid_sequence(\"{[()]}\"))  # Вывод: True\n",
    "print(is_valid_sequence(\"({[)]}\"))  # Вывод: False\n",
    "print(is_valid_sequence(\"(\"))       # Вывод: False\n",
    "print(is_valid_sequence(\"]\"))       # Вывод: False"
   ]
  },
  {
   "cell_type": "code",
   "execution_count": null,
   "id": "624454cb-afa1-4d6e-ae37-a637222ab76f",
   "metadata": {},
   "outputs": [],
   "source": []
  }
 ],
 "metadata": {
  "kernelspec": {
   "display_name": "Python 3 (ipykernel)",
   "language": "python",
   "name": "python3"
  },
  "language_info": {
   "codemirror_mode": {
    "name": "ipython",
    "version": 3
   },
   "file_extension": ".py",
   "mimetype": "text/x-python",
   "name": "python",
   "nbconvert_exporter": "python",
   "pygments_lexer": "ipython3",
   "version": "3.11.7"
  }
 },
 "nbformat": 4,
 "nbformat_minor": 5
}
